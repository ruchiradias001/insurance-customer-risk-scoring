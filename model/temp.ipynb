{
 "cells": [
  {
   "cell_type": "code",
   "execution_count": 4,
   "id": "d4c882de",
   "metadata": {},
   "outputs": [],
   "source": [
    "import json\n",
    "import pandas as pd"
   ]
  },
  {
   "cell_type": "code",
   "execution_count": 5,
   "id": "d46215c0",
   "metadata": {},
   "outputs": [
    {
     "name": "stderr",
     "output_type": "stream",
     "text": [
      "C:\\Users\\Ruchira Dias\\AppData\\Local\\Temp\\ipykernel_12564\\890601282.py:1: DtypeWarning: Columns (1,2) have mixed types. Specify dtype option on import or set low_memory=False.\n",
      "  df = pd.read_csv(\"new_dataset.csv\")\n"
     ]
    },
    {
     "data": {
      "text/html": [
       "<div>\n",
       "<style scoped>\n",
       "    .dataframe tbody tr th:only-of-type {\n",
       "        vertical-align: middle;\n",
       "    }\n",
       "\n",
       "    .dataframe tbody tr th {\n",
       "        vertical-align: top;\n",
       "    }\n",
       "\n",
       "    .dataframe thead th {\n",
       "        text-align: right;\n",
       "    }\n",
       "</style>\n",
       "<table border=\"1\" class=\"dataframe\">\n",
       "  <thead>\n",
       "    <tr style=\"text-align: right;\">\n",
       "      <th></th>\n",
       "      <th>INSUREDNATURE</th>\n",
       "      <th>SEX</th>\n",
       "      <th>MARITALSTATUS</th>\n",
       "      <th>BRANCHCODE</th>\n",
       "      <th>DISTRINCTCODE</th>\n",
       "      <th>PROVINCECODE</th>\n",
       "      <th>ZONECODE</th>\n",
       "      <th>YEAR</th>\n",
       "      <th>VEHICLETYPE</th>\n",
       "      <th>MAKE</th>\n",
       "      <th>...</th>\n",
       "      <th>VEHICLEVALUE</th>\n",
       "      <th>MAINCLASS</th>\n",
       "      <th>SUBCLASS</th>\n",
       "      <th>EFFECTIVEDAYS</th>\n",
       "      <th>SUMINSURED</th>\n",
       "      <th>ANNUALBASICPREMIUM</th>\n",
       "      <th>ANNUALSRCCPREMIUM</th>\n",
       "      <th>ANNUALTCPREMIUM</th>\n",
       "      <th>ANNUALPREMIUMTOTAL</th>\n",
       "      <th>RISKSCORE</th>\n",
       "    </tr>\n",
       "  </thead>\n",
       "  <tbody>\n",
       "    <tr>\n",
       "      <th>0</th>\n",
       "      <td>I</td>\n",
       "      <td>M</td>\n",
       "      <td>N</td>\n",
       "      <td>MTL</td>\n",
       "      <td>MTL</td>\n",
       "      <td>CNTRL</td>\n",
       "      <td>CENTRAL</td>\n",
       "      <td>2008.0</td>\n",
       "      <td>LORRY</td>\n",
       "      <td>ISUZU</td>\n",
       "      <td>...</td>\n",
       "      <td>3000000.0</td>\n",
       "      <td>VCSL</td>\n",
       "      <td>JHL</td>\n",
       "      <td>365</td>\n",
       "      <td>3000000.0</td>\n",
       "      <td>3000.00</td>\n",
       "      <td>500.00</td>\n",
       "      <td>0.0</td>\n",
       "      <td>3500.00</td>\n",
       "      <td>0.000000</td>\n",
       "    </tr>\n",
       "    <tr>\n",
       "      <th>1</th>\n",
       "      <td>I</td>\n",
       "      <td>M</td>\n",
       "      <td>N</td>\n",
       "      <td>KRI</td>\n",
       "      <td>GMP</td>\n",
       "      <td>WSTRN</td>\n",
       "      <td>WESTERNZONE1</td>\n",
       "      <td>1992.0</td>\n",
       "      <td>LORRY</td>\n",
       "      <td>ISUZU</td>\n",
       "      <td>...</td>\n",
       "      <td>1500000.0</td>\n",
       "      <td>VCSL</td>\n",
       "      <td>JHL</td>\n",
       "      <td>258</td>\n",
       "      <td>1500000.0</td>\n",
       "      <td>666.50</td>\n",
       "      <td>0.00</td>\n",
       "      <td>0.0</td>\n",
       "      <td>666.50</td>\n",
       "      <td>0.000000</td>\n",
       "    </tr>\n",
       "    <tr>\n",
       "      <th>2</th>\n",
       "      <td>I</td>\n",
       "      <td>M</td>\n",
       "      <td>N</td>\n",
       "      <td>HNW</td>\n",
       "      <td>AVI</td>\n",
       "      <td>WSTRN</td>\n",
       "      <td>WEST</td>\n",
       "      <td>1980.0</td>\n",
       "      <td>LORRY</td>\n",
       "      <td>TOYOTA</td>\n",
       "      <td>...</td>\n",
       "      <td>500000.0</td>\n",
       "      <td>VCSL</td>\n",
       "      <td>JHL</td>\n",
       "      <td>294</td>\n",
       "      <td>500000.0</td>\n",
       "      <td>9925.42</td>\n",
       "      <td>0.00</td>\n",
       "      <td>0.0</td>\n",
       "      <td>9925.42</td>\n",
       "      <td>0.000000</td>\n",
       "    </tr>\n",
       "    <tr>\n",
       "      <th>3</th>\n",
       "      <td>I</td>\n",
       "      <td>M</td>\n",
       "      <td>N</td>\n",
       "      <td>INT</td>\n",
       "      <td>INT</td>\n",
       "      <td>WSTRN</td>\n",
       "      <td>CMB</td>\n",
       "      <td>2001.0</td>\n",
       "      <td>CAR</td>\n",
       "      <td>NISSAN</td>\n",
       "      <td>...</td>\n",
       "      <td>2285000.0</td>\n",
       "      <td>VCSP</td>\n",
       "      <td>JPC</td>\n",
       "      <td>358</td>\n",
       "      <td>2285000.0</td>\n",
       "      <td>5284.87</td>\n",
       "      <td>0.00</td>\n",
       "      <td>0.0</td>\n",
       "      <td>5284.87</td>\n",
       "      <td>0.022797</td>\n",
       "    </tr>\n",
       "    <tr>\n",
       "      <th>4</th>\n",
       "      <td>I</td>\n",
       "      <td>M</td>\n",
       "      <td>N</td>\n",
       "      <td>GLE</td>\n",
       "      <td>GLE</td>\n",
       "      <td>SOTRN</td>\n",
       "      <td>SOUTHERN2</td>\n",
       "      <td>1995.0</td>\n",
       "      <td>VAN</td>\n",
       "      <td>TOYOTA</td>\n",
       "      <td>...</td>\n",
       "      <td>1500000.0</td>\n",
       "      <td>VCSL</td>\n",
       "      <td>JHD</td>\n",
       "      <td>72</td>\n",
       "      <td>1500000.0</td>\n",
       "      <td>16846.03</td>\n",
       "      <td>5264.38</td>\n",
       "      <td>0.0</td>\n",
       "      <td>22110.41</td>\n",
       "      <td>0.000000</td>\n",
       "    </tr>\n",
       "  </tbody>\n",
       "</table>\n",
       "<p>5 rows × 24 columns</p>\n",
       "</div>"
      ],
      "text/plain": [
       "  INSUREDNATURE SEX MARITALSTATUS BRANCHCODE DISTRINCTCODE PROVINCECODE  \\\n",
       "0             I   M             N        MTL           MTL        CNTRL   \n",
       "1             I   M             N        KRI           GMP        WSTRN   \n",
       "2             I   M             N        HNW           AVI        WSTRN   \n",
       "3             I   M             N        INT           INT        WSTRN   \n",
       "4             I   M             N        GLE           GLE        SOTRN   \n",
       "\n",
       "       ZONECODE    YEAR VEHICLETYPE    MAKE  ... VEHICLEVALUE MAINCLASS  \\\n",
       "0       CENTRAL  2008.0       LORRY   ISUZU  ...    3000000.0      VCSL   \n",
       "1  WESTERNZONE1  1992.0       LORRY   ISUZU  ...    1500000.0      VCSL   \n",
       "2          WEST  1980.0       LORRY  TOYOTA  ...     500000.0      VCSL   \n",
       "3           CMB  2001.0         CAR  NISSAN  ...    2285000.0      VCSP   \n",
       "4     SOUTHERN2  1995.0         VAN  TOYOTA  ...    1500000.0      VCSL   \n",
       "\n",
       "  SUBCLASS EFFECTIVEDAYS  SUMINSURED ANNUALBASICPREMIUM ANNUALSRCCPREMIUM  \\\n",
       "0      JHL           365   3000000.0            3000.00            500.00   \n",
       "1      JHL           258   1500000.0             666.50              0.00   \n",
       "2      JHL           294    500000.0            9925.42              0.00   \n",
       "3      JPC           358   2285000.0            5284.87              0.00   \n",
       "4      JHD            72   1500000.0           16846.03           5264.38   \n",
       "\n",
       "   ANNUALTCPREMIUM  ANNUALPREMIUMTOTAL  RISKSCORE  \n",
       "0              0.0             3500.00   0.000000  \n",
       "1              0.0              666.50   0.000000  \n",
       "2              0.0             9925.42   0.000000  \n",
       "3              0.0             5284.87   0.022797  \n",
       "4              0.0            22110.41   0.000000  \n",
       "\n",
       "[5 rows x 24 columns]"
      ]
     },
     "execution_count": 5,
     "metadata": {},
     "output_type": "execute_result"
    }
   ],
   "source": [
    "df = pd.read_csv(\"new_dataset.csv\")\n",
    "df.head()"
   ]
  },
  {
   "cell_type": "code",
   "execution_count": 7,
   "id": "913d6673",
   "metadata": {},
   "outputs": [
    {
     "name": "stdout",
     "output_type": "stream",
     "text": [
      "['N' 'M' 'W' 'S' 'A' 'D' 'V' nan]\n"
     ]
    }
   ],
   "source": [
    "print(df['MARITALSTATUS'].unique())"
   ]
  },
  {
   "cell_type": "code",
   "execution_count": 8,
   "id": "cd46c52a",
   "metadata": {},
   "outputs": [
    {
     "name": "stdout",
     "output_type": "stream",
     "text": [
      "['DIESEL' 'PETROL' 'HYB_PETROL' 'Unkown' 'ELECTRIC' 'HYB_DIESEL'\n",
      " 'PETROL/GAS' 'GAS']\n"
     ]
    }
   ],
   "source": [
    "print(df['FUELTYPE'].unique())"
   ]
  },
  {
   "cell_type": "code",
   "execution_count": 6,
   "id": "0ed2e831",
   "metadata": {},
   "outputs": [
    {
     "name": "stdout",
     "output_type": "stream",
     "text": [
      "['M' 'F' 'Unknown' nan]\n"
     ]
    }
   ],
   "source": [
    "print(df['SEX'].unique())"
   ]
  },
  {
   "cell_type": "code",
   "execution_count": 3,
   "id": "9f19bf72",
   "metadata": {},
   "outputs": [
    {
     "data": {
      "text/plain": [
       "(427, 4)"
      ]
     },
     "execution_count": 3,
     "metadata": {},
     "output_type": "execute_result"
    }
   ],
   "source": [
    "df_loc = df[['BRANCHCODE', 'DISTRINCTCODE', 'PROVINCECODE', 'ZONECODE']]\n",
    "df_loc = df_loc.drop_duplicates()\n",
    "df_loc.shape"
   ]
  },
  {
   "cell_type": "code",
   "execution_count": 4,
   "id": "544cc4c6",
   "metadata": {},
   "outputs": [],
   "source": [
    "class Branch:\n",
    "    def __init__(self, branch, district, province, zone):\n",
    "        self.branch = branch\n",
    "        self.district = district\n",
    "        self.province = province\n",
    "        self.zone = zone\n",
    "    \n",
    "    def to_dict(self):\n",
    "            return {\n",
    "                'branch': self.branch,\n",
    "                'district': self.district,\n",
    "                'province' : self.province,\n",
    "                'zone' : self.zone\n",
    "            }"
   ]
  },
  {
   "cell_type": "code",
   "execution_count": 5,
   "id": "e67facb1",
   "metadata": {},
   "outputs": [],
   "source": [
    "branches = []\n",
    "for branch in df_loc['BRANCHCODE'].unique().tolist():\n",
    "    df_bra = df_loc[df_loc['BRANCHCODE'] == branch]\n",
    "    for i, r in df_bra.iterrows():\n",
    "        branches.append(Branch(r['BRANCHCODE'], r['DISTRINCTCODE'], r['PROVINCECODE'], r['ZONECODE']))"
   ]
  },
  {
   "cell_type": "code",
   "execution_count": 6,
   "id": "338cbb6d",
   "metadata": {},
   "outputs": [],
   "source": [
    "serialized_branches = [obj.to_dict() for obj in branches]\n",
    "filename = 'branches.json'\n",
    "with open(filename, 'w') as file:\n",
    "    json.dump(serialized_branches, file)"
   ]
  },
  {
   "cell_type": "code",
   "execution_count": 7,
   "id": "ec257ca3",
   "metadata": {},
   "outputs": [
    {
     "data": {
      "text/plain": [
       "(87, 2)"
      ]
     },
     "execution_count": 7,
     "metadata": {},
     "output_type": "execute_result"
    }
   ],
   "source": [
    "df_pol = df[['MAINCLASS', 'SUBCLASS']]\n",
    "df_pol = df_pol.drop_duplicates()\n",
    "df_pol.shape"
   ]
  },
  {
   "cell_type": "code",
   "execution_count": 8,
   "id": "74a194aa",
   "metadata": {},
   "outputs": [],
   "source": [
    "class Policy:\n",
    "    def __init__(self, main, sub):\n",
    "        self.main = str(main)\n",
    "        self.sub = str(sub)\n",
    "    \n",
    "    def to_dict(self):\n",
    "            return {\n",
    "                'mainclass': self.main,\n",
    "                'subclass': self.sub,\n",
    "            }"
   ]
  },
  {
   "cell_type": "code",
   "execution_count": 9,
   "id": "977d2b64",
   "metadata": {},
   "outputs": [],
   "source": [
    "policies = []\n",
    "for sub in df_pol['SUBCLASS'].unique().tolist():\n",
    "    df_sub = df_pol[df_pol['SUBCLASS'] == sub]\n",
    "    for i, r in df_sub.iterrows():\n",
    "        policies.append(Policy(r['MAINCLASS'], r['SUBCLASS']))"
   ]
  },
  {
   "cell_type": "code",
   "execution_count": 10,
   "id": "48a93810",
   "metadata": {},
   "outputs": [],
   "source": [
    "serialized_policies = [obj.to_dict() for obj in policies]\n",
    "filename = 'policies.json'\n",
    "with open(filename, 'w') as file:\n",
    "    json.dump(serialized_policies, file)"
   ]
  },
  {
   "cell_type": "code",
   "execution_count": 11,
   "id": "8384b884",
   "metadata": {},
   "outputs": [
    {
     "data": {
      "text/plain": [
       "(4209, 3)"
      ]
     },
     "execution_count": 11,
     "metadata": {},
     "output_type": "execute_result"
    }
   ],
   "source": [
    "df_veh = df[['VEHICLETYPE', 'MAKE', 'MODEL']]\n",
    "df_veh = df_veh.drop_duplicates()\n",
    "df_veh.shape"
   ]
  },
  {
   "cell_type": "code",
   "execution_count": 12,
   "id": "8acf39a8",
   "metadata": {},
   "outputs": [],
   "source": [
    "class Vehicle:\n",
    "    def __init__(self, vehtype, make, model):\n",
    "        self.vehtype = str(vehtype)\n",
    "        self.make = str(make)\n",
    "        self.model = str(model)\n",
    "        \n",
    "    def to_dict(self):\n",
    "            return {\n",
    "                'type': self.vehtype,\n",
    "                'make': self.make,\n",
    "                'model': self.model\n",
    "            }"
   ]
  },
  {
   "cell_type": "code",
   "execution_count": 13,
   "id": "f4f0f24b",
   "metadata": {},
   "outputs": [],
   "source": [
    "vehicles = []\n",
    "for model in df_veh['MODEL'].unique().tolist():\n",
    "    df_mod = df_veh[df_veh['MODEL'] == model]\n",
    "    for i, r in df_mod.iterrows():\n",
    "        vehicles.append(Vehicle(r['VEHICLETYPE'], r['MAKE'], r['MODEL']))"
   ]
  },
  {
   "cell_type": "code",
   "execution_count": 14,
   "id": "0eeba677",
   "metadata": {},
   "outputs": [],
   "source": [
    "serialized_vehicles = [obj.to_dict() for obj in vehicles]\n",
    "filename = 'vehicles.json'\n",
    "with open(filename, 'w') as file:\n",
    "    json.dump(serialized_vehicles, file)"
   ]
  },
  {
   "cell_type": "code",
   "execution_count": null,
   "id": "de9b43c5",
   "metadata": {},
   "outputs": [],
   "source": []
  }
 ],
 "metadata": {
  "kernelspec": {
   "display_name": "Python 3 (ipykernel)",
   "language": "python",
   "name": "python3"
  },
  "language_info": {
   "codemirror_mode": {
    "name": "ipython",
    "version": 3
   },
   "file_extension": ".py",
   "mimetype": "text/x-python",
   "name": "python",
   "nbconvert_exporter": "python",
   "pygments_lexer": "ipython3",
   "version": "3.8.16"
  }
 },
 "nbformat": 4,
 "nbformat_minor": 5
}
