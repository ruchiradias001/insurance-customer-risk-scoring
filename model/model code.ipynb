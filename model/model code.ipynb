{
 "cells": [
  {
   "cell_type": "code",
   "execution_count": 1,
   "id": "588c2523",
   "metadata": {
    "id": "588c2523"
   },
   "outputs": [],
   "source": [
    "# imports\n",
    "import numpy as np\n",
    "import pandas as pd\n",
    "import joblib\n",
    "from sklearn.preprocessing import LabelEncoder\n",
    "from sklearn.model_selection import train_test_split, GridSearchCV"
   ]
  },
  {
   "cell_type": "code",
   "execution_count": 2,
   "id": "fe10494b",
   "metadata": {},
   "outputs": [],
   "source": [
    "# machine learning models import\n",
    "from sklearn.linear_model import LinearRegression\n",
    "from sklearn.tree import DecisionTreeRegressor\n",
    "from sklearn.ensemble import RandomForestRegressor\n",
    "from sklearn.neighbors import KNeighborsRegressor\n",
    "from sklearn.svm import SVR"
   ]
  },
  {
   "cell_type": "code",
   "execution_count": 3,
   "id": "e7b3cd89",
   "metadata": {},
   "outputs": [],
   "source": [
    "# model evauation metrics import\n",
    "from sklearn.metrics import accuracy_score, mean_squared_error, r2_score\n",
    "import matplotlib.pyplot as plt"
   ]
  },
  {
   "cell_type": "markdown",
   "id": "43283231",
   "metadata": {
    "id": "43283231"
   },
   "source": [
    "## Data Exploration"
   ]
  },
  {
   "cell_type": "code",
   "execution_count": 4,
   "id": "82899c07",
   "metadata": {
    "colab": {
     "base_uri": "https://localhost:8080/",
     "height": 490
    },
    "id": "82899c07",
    "outputId": "277731ea-0996-433f-ee54-99d7bf36c2e2"
   },
   "outputs": [
    {
     "data": {
      "text/html": [
       "<div>\n",
       "<style scoped>\n",
       "    .dataframe tbody tr th:only-of-type {\n",
       "        vertical-align: middle;\n",
       "    }\n",
       "\n",
       "    .dataframe tbody tr th {\n",
       "        vertical-align: top;\n",
       "    }\n",
       "\n",
       "    .dataframe thead th {\n",
       "        text-align: right;\n",
       "    }\n",
       "</style>\n",
       "<table border=\"1\" class=\"dataframe\">\n",
       "  <thead>\n",
       "    <tr style=\"text-align: right;\">\n",
       "      <th></th>\n",
       "      <th>LINKID</th>\n",
       "      <th>DOCUMENTDATE</th>\n",
       "      <th>EXPIRYDATE</th>\n",
       "      <th>INSUREDNATURE</th>\n",
       "      <th>DATEOFBIRTH</th>\n",
       "      <th>SEX</th>\n",
       "      <th>MARITALSTATUS</th>\n",
       "      <th>OCCUPATION</th>\n",
       "      <th>BRANCHCODE</th>\n",
       "      <th>DISTRINCTCODE</th>\n",
       "      <th>...</th>\n",
       "      <th>MAINCLASS</th>\n",
       "      <th>DESCRIPTION</th>\n",
       "      <th>SUBCLASS</th>\n",
       "      <th>SUMINSURED</th>\n",
       "      <th>ANNUALBASICPREMIUM</th>\n",
       "      <th>ANNUALSRCCPREMIUM</th>\n",
       "      <th>ANNUALTCPREMIUM</th>\n",
       "      <th>ANNUALPREMIUMTOTAL</th>\n",
       "      <th>CLAIMAMOUNT</th>\n",
       "      <th>REGISTRARIONID</th>\n",
       "    </tr>\n",
       "  </thead>\n",
       "  <tbody>\n",
       "    <tr>\n",
       "      <th>0</th>\n",
       "      <td>POLE201413191644</td>\n",
       "      <td>2014-10-14 00:00:00</td>\n",
       "      <td>2015-07-20</td>\n",
       "      <td>C</td>\n",
       "      <td>NaN</td>\n",
       "      <td>NaN</td>\n",
       "      <td>NaN</td>\n",
       "      <td>NaN</td>\n",
       "      <td>KUR</td>\n",
       "      <td>KUR</td>\n",
       "      <td>...</td>\n",
       "      <td>VCFL</td>\n",
       "      <td>VEHICLE COMMERCIAL VEHICLE FLEET</td>\n",
       "      <td>JCH2</td>\n",
       "      <td>9450000.0</td>\n",
       "      <td>1357.18</td>\n",
       "      <td>1130.99</td>\n",
       "      <td>0.0</td>\n",
       "      <td>2488.17</td>\n",
       "      <td>811459.88</td>\n",
       "      <td>16702</td>\n",
       "    </tr>\n",
       "    <tr>\n",
       "      <th>1</th>\n",
       "      <td>POLE201514230042</td>\n",
       "      <td>2015-06-29 00:00:00</td>\n",
       "      <td>2016-03-30</td>\n",
       "      <td>C</td>\n",
       "      <td>NaN</td>\n",
       "      <td>NaN</td>\n",
       "      <td>NaN</td>\n",
       "      <td>NaN</td>\n",
       "      <td>CNR</td>\n",
       "      <td>CNR</td>\n",
       "      <td>...</td>\n",
       "      <td>VCFP</td>\n",
       "      <td>VEHICLE PRIVATE CAR FLEET</td>\n",
       "      <td>JPC</td>\n",
       "      <td>149856000.0</td>\n",
       "      <td>1411.00</td>\n",
       "      <td>0.00</td>\n",
       "      <td>0.0</td>\n",
       "      <td>1411.00</td>\n",
       "      <td>50727.34</td>\n",
       "      <td>28602</td>\n",
       "    </tr>\n",
       "    <tr>\n",
       "      <th>2</th>\n",
       "      <td>POLE201412564131</td>\n",
       "      <td>2014-06-06 00:00:00</td>\n",
       "      <td>2015-02-04</td>\n",
       "      <td>C</td>\n",
       "      <td>NaN</td>\n",
       "      <td>NaN</td>\n",
       "      <td>NaN</td>\n",
       "      <td>NaN</td>\n",
       "      <td>JIC</td>\n",
       "      <td>JIC</td>\n",
       "      <td>...</td>\n",
       "      <td>VCFP</td>\n",
       "      <td>VEHICLE PRIVATE CAR FLEET</td>\n",
       "      <td>JPC</td>\n",
       "      <td>480436325.0</td>\n",
       "      <td>6142.68</td>\n",
       "      <td>0.00</td>\n",
       "      <td>0.0</td>\n",
       "      <td>6142.68</td>\n",
       "      <td>NaN</td>\n",
       "      <td>31010</td>\n",
       "    </tr>\n",
       "    <tr>\n",
       "      <th>3</th>\n",
       "      <td>POLE20095627214</td>\n",
       "      <td>2009-03-31 00:00:00</td>\n",
       "      <td>2010-02-04</td>\n",
       "      <td>C</td>\n",
       "      <td>NaN</td>\n",
       "      <td>NaN</td>\n",
       "      <td>NaN</td>\n",
       "      <td>NaN</td>\n",
       "      <td>JIC</td>\n",
       "      <td>JIC</td>\n",
       "      <td>...</td>\n",
       "      <td>VCFP</td>\n",
       "      <td>VEHICLE PRIVATE CAR FLEET</td>\n",
       "      <td>JPC</td>\n",
       "      <td>378102975.0</td>\n",
       "      <td>22763.34</td>\n",
       "      <td>0.00</td>\n",
       "      <td>0.0</td>\n",
       "      <td>22763.34</td>\n",
       "      <td>NaN</td>\n",
       "      <td>36045</td>\n",
       "    </tr>\n",
       "    <tr>\n",
       "      <th>4</th>\n",
       "      <td>POLE20084893573</td>\n",
       "      <td>2008-07-01 00:00:00</td>\n",
       "      <td>2009-02-04</td>\n",
       "      <td>C</td>\n",
       "      <td>NaN</td>\n",
       "      <td>NaN</td>\n",
       "      <td>NaN</td>\n",
       "      <td>NaN</td>\n",
       "      <td>JIC</td>\n",
       "      <td>JIC</td>\n",
       "      <td>...</td>\n",
       "      <td>VCFP</td>\n",
       "      <td>VEHICLE PRIVATE CAR FLEET</td>\n",
       "      <td>JPC</td>\n",
       "      <td>335065400.0</td>\n",
       "      <td>556.23</td>\n",
       "      <td>0.00</td>\n",
       "      <td>0.0</td>\n",
       "      <td>556.23</td>\n",
       "      <td>27700.00</td>\n",
       "      <td>34832</td>\n",
       "    </tr>\n",
       "  </tbody>\n",
       "</table>\n",
       "<p>5 rows × 36 columns</p>\n",
       "</div>"
      ],
      "text/plain": [
       "             LINKID         DOCUMENTDATE  EXPIRYDATE INSUREDNATURE  \\\n",
       "0  POLE201413191644  2014-10-14 00:00:00  2015-07-20             C   \n",
       "1  POLE201514230042  2015-06-29 00:00:00  2016-03-30             C   \n",
       "2  POLE201412564131  2014-06-06 00:00:00  2015-02-04             C   \n",
       "3   POLE20095627214  2009-03-31 00:00:00  2010-02-04             C   \n",
       "4   POLE20084893573  2008-07-01 00:00:00  2009-02-04             C   \n",
       "\n",
       "  DATEOFBIRTH  SEX MARITALSTATUS OCCUPATION BRANCHCODE DISTRINCTCODE  ...  \\\n",
       "0         NaN  NaN           NaN        NaN        KUR           KUR  ...   \n",
       "1         NaN  NaN           NaN        NaN        CNR           CNR  ...   \n",
       "2         NaN  NaN           NaN        NaN        JIC           JIC  ...   \n",
       "3         NaN  NaN           NaN        NaN        JIC           JIC  ...   \n",
       "4         NaN  NaN           NaN        NaN        JIC           JIC  ...   \n",
       "\n",
       "  MAINCLASS                       DESCRIPTION  SUBCLASS   SUMINSURED  \\\n",
       "0      VCFL  VEHICLE COMMERCIAL VEHICLE FLEET      JCH2    9450000.0   \n",
       "1      VCFP         VEHICLE PRIVATE CAR FLEET       JPC  149856000.0   \n",
       "2      VCFP         VEHICLE PRIVATE CAR FLEET       JPC  480436325.0   \n",
       "3      VCFP         VEHICLE PRIVATE CAR FLEET       JPC  378102975.0   \n",
       "4      VCFP         VEHICLE PRIVATE CAR FLEET       JPC  335065400.0   \n",
       "\n",
       "  ANNUALBASICPREMIUM ANNUALSRCCPREMIUM ANNUALTCPREMIUM  ANNUALPREMIUMTOTAL  \\\n",
       "0            1357.18           1130.99             0.0             2488.17   \n",
       "1            1411.00              0.00             0.0             1411.00   \n",
       "2            6142.68              0.00             0.0             6142.68   \n",
       "3           22763.34              0.00             0.0            22763.34   \n",
       "4             556.23              0.00             0.0              556.23   \n",
       "\n",
       "   CLAIMAMOUNT REGISTRARIONID  \n",
       "0    811459.88          16702  \n",
       "1     50727.34          28602  \n",
       "2          NaN          31010  \n",
       "3          NaN          36045  \n",
       "4     27700.00          34832  \n",
       "\n",
       "[5 rows x 36 columns]"
      ]
     },
     "execution_count": 4,
     "metadata": {},
     "output_type": "execute_result"
    }
   ],
   "source": [
    "# read the csv file into dataframe\n",
    "df = pd.read_csv(\"dataset.csv\")\n",
    "df.head()"
   ]
  },
  {
   "cell_type": "code",
   "execution_count": 5,
   "id": "8e5fe15e",
   "metadata": {
    "colab": {
     "base_uri": "https://localhost:8080/"
    },
    "id": "8e5fe15e",
    "outputId": "4f08c6fb-107d-4f9c-d4e8-40566110cefa"
   },
   "outputs": [
    {
     "name": "stdout",
     "output_type": "stream",
     "text": [
      "df rows:  252425\n",
      "df cols:  36\n"
     ]
    }
   ],
   "source": [
    "# df\n",
    "print('df rows: ', df.shape[0])\n",
    "print('df cols: ', df.shape[1])"
   ]
  },
  {
   "cell_type": "code",
   "execution_count": 6,
   "id": "c43b0394",
   "metadata": {
    "id": "c43b0394"
   },
   "outputs": [],
   "source": [
    "# dataframe describe function\n",
    "def dataframe_describe(df):\n",
    "    df_desc = pd.DataFrame(columns=['Column Name', 'Data Type', 'Min Value', 'Max Value', 'Catagories', 'Null Values'])\n",
    "    for col in df.columns:\n",
    "        dtype = df[col].dtype\n",
    "        min_value = df[col].min() if np.issubdtype(dtype, np.number) else None\n",
    "        max_value = df[col].max() if np.issubdtype(dtype, np.number) else None\n",
    "        categories = df[col].nunique() if dtype == 'object' else None\n",
    "        null_values = df[col].isnull().sum()\n",
    "        df_desc.loc[len(df_desc)] = [col, dtype, min_value, max_value, categories, null_values]\n",
    "    return df_desc"
   ]
  },
  {
   "cell_type": "code",
   "execution_count": 7,
   "id": "62cd5055",
   "metadata": {
    "colab": {
     "base_uri": "https://localhost:8080/",
     "height": 1000
    },
    "id": "62cd5055",
    "outputId": "daf73515-f6b7-46f8-a264-ff2ef5c8d226"
   },
   "outputs": [
    {
     "data": {
      "text/html": [
       "<div>\n",
       "<style scoped>\n",
       "    .dataframe tbody tr th:only-of-type {\n",
       "        vertical-align: middle;\n",
       "    }\n",
       "\n",
       "    .dataframe tbody tr th {\n",
       "        vertical-align: top;\n",
       "    }\n",
       "\n",
       "    .dataframe thead th {\n",
       "        text-align: right;\n",
       "    }\n",
       "</style>\n",
       "<table border=\"1\" class=\"dataframe\">\n",
       "  <thead>\n",
       "    <tr style=\"text-align: right;\">\n",
       "      <th></th>\n",
       "      <th>Column Name</th>\n",
       "      <th>Data Type</th>\n",
       "      <th>Min Value</th>\n",
       "      <th>Max Value</th>\n",
       "      <th>Catagories</th>\n",
       "      <th>Null Values</th>\n",
       "    </tr>\n",
       "  </thead>\n",
       "  <tbody>\n",
       "    <tr>\n",
       "      <th>0</th>\n",
       "      <td>LINKID</td>\n",
       "      <td>object</td>\n",
       "      <td>NaN</td>\n",
       "      <td>NaN</td>\n",
       "      <td>38308</td>\n",
       "      <td>0</td>\n",
       "    </tr>\n",
       "    <tr>\n",
       "      <th>1</th>\n",
       "      <td>DOCUMENTDATE</td>\n",
       "      <td>object</td>\n",
       "      <td>NaN</td>\n",
       "      <td>NaN</td>\n",
       "      <td>3626</td>\n",
       "      <td>0</td>\n",
       "    </tr>\n",
       "    <tr>\n",
       "      <th>2</th>\n",
       "      <td>EXPIRYDATE</td>\n",
       "      <td>object</td>\n",
       "      <td>NaN</td>\n",
       "      <td>NaN</td>\n",
       "      <td>3908</td>\n",
       "      <td>0</td>\n",
       "    </tr>\n",
       "    <tr>\n",
       "      <th>3</th>\n",
       "      <td>INSUREDNATURE</td>\n",
       "      <td>object</td>\n",
       "      <td>NaN</td>\n",
       "      <td>NaN</td>\n",
       "      <td>2</td>\n",
       "      <td>0</td>\n",
       "    </tr>\n",
       "    <tr>\n",
       "      <th>4</th>\n",
       "      <td>DATEOFBIRTH</td>\n",
       "      <td>object</td>\n",
       "      <td>NaN</td>\n",
       "      <td>NaN</td>\n",
       "      <td>1119</td>\n",
       "      <td>248641</td>\n",
       "    </tr>\n",
       "    <tr>\n",
       "      <th>5</th>\n",
       "      <td>SEX</td>\n",
       "      <td>object</td>\n",
       "      <td>NaN</td>\n",
       "      <td>NaN</td>\n",
       "      <td>2</td>\n",
       "      <td>173317</td>\n",
       "    </tr>\n",
       "    <tr>\n",
       "      <th>6</th>\n",
       "      <td>MARITALSTATUS</td>\n",
       "      <td>object</td>\n",
       "      <td>NaN</td>\n",
       "      <td>NaN</td>\n",
       "      <td>9</td>\n",
       "      <td>232371</td>\n",
       "    </tr>\n",
       "    <tr>\n",
       "      <th>7</th>\n",
       "      <td>OCCUPATION</td>\n",
       "      <td>object</td>\n",
       "      <td>NaN</td>\n",
       "      <td>NaN</td>\n",
       "      <td>123</td>\n",
       "      <td>249613</td>\n",
       "    </tr>\n",
       "    <tr>\n",
       "      <th>8</th>\n",
       "      <td>BRANCHCODE</td>\n",
       "      <td>object</td>\n",
       "      <td>NaN</td>\n",
       "      <td>NaN</td>\n",
       "      <td>205</td>\n",
       "      <td>0</td>\n",
       "    </tr>\n",
       "    <tr>\n",
       "      <th>9</th>\n",
       "      <td>DISTRINCTCODE</td>\n",
       "      <td>object</td>\n",
       "      <td>NaN</td>\n",
       "      <td>NaN</td>\n",
       "      <td>95</td>\n",
       "      <td>0</td>\n",
       "    </tr>\n",
       "    <tr>\n",
       "      <th>10</th>\n",
       "      <td>PROVINCECODE</td>\n",
       "      <td>object</td>\n",
       "      <td>NaN</td>\n",
       "      <td>NaN</td>\n",
       "      <td>9</td>\n",
       "      <td>0</td>\n",
       "    </tr>\n",
       "    <tr>\n",
       "      <th>11</th>\n",
       "      <td>ZONECODE</td>\n",
       "      <td>object</td>\n",
       "      <td>NaN</td>\n",
       "      <td>NaN</td>\n",
       "      <td>39</td>\n",
       "      <td>0</td>\n",
       "    </tr>\n",
       "    <tr>\n",
       "      <th>12</th>\n",
       "      <td>YEAR</td>\n",
       "      <td>float64</td>\n",
       "      <td>1.00</td>\n",
       "      <td>9.701000e+03</td>\n",
       "      <td>None</td>\n",
       "      <td>6093</td>\n",
       "    </tr>\n",
       "    <tr>\n",
       "      <th>13</th>\n",
       "      <td>VEHICLETYPE</td>\n",
       "      <td>object</td>\n",
       "      <td>NaN</td>\n",
       "      <td>NaN</td>\n",
       "      <td>43</td>\n",
       "      <td>22802</td>\n",
       "    </tr>\n",
       "    <tr>\n",
       "      <th>14</th>\n",
       "      <td>MAKE</td>\n",
       "      <td>object</td>\n",
       "      <td>NaN</td>\n",
       "      <td>NaN</td>\n",
       "      <td>336</td>\n",
       "      <td>1894</td>\n",
       "    </tr>\n",
       "    <tr>\n",
       "      <th>15</th>\n",
       "      <td>MODEL</td>\n",
       "      <td>object</td>\n",
       "      <td>NaN</td>\n",
       "      <td>NaN</td>\n",
       "      <td>2471</td>\n",
       "      <td>1816</td>\n",
       "    </tr>\n",
       "    <tr>\n",
       "      <th>16</th>\n",
       "      <td>REGISTRATIONDATE</td>\n",
       "      <td>object</td>\n",
       "      <td>NaN</td>\n",
       "      <td>NaN</td>\n",
       "      <td>5507</td>\n",
       "      <td>170079</td>\n",
       "    </tr>\n",
       "    <tr>\n",
       "      <th>17</th>\n",
       "      <td>TONNAGE</td>\n",
       "      <td>float64</td>\n",
       "      <td>0.00</td>\n",
       "      <td>5.000000e+05</td>\n",
       "      <td>None</td>\n",
       "      <td>31872</td>\n",
       "    </tr>\n",
       "    <tr>\n",
       "      <th>18</th>\n",
       "      <td>SEATINGCAPACITY</td>\n",
       "      <td>float64</td>\n",
       "      <td>1.00</td>\n",
       "      <td>3.170000e+02</td>\n",
       "      <td>None</td>\n",
       "      <td>1370</td>\n",
       "    </tr>\n",
       "    <tr>\n",
       "      <th>19</th>\n",
       "      <td>FUELTYPE</td>\n",
       "      <td>object</td>\n",
       "      <td>NaN</td>\n",
       "      <td>NaN</td>\n",
       "      <td>27</td>\n",
       "      <td>1516</td>\n",
       "    </tr>\n",
       "    <tr>\n",
       "      <th>20</th>\n",
       "      <td>NONROADUSE</td>\n",
       "      <td>object</td>\n",
       "      <td>NaN</td>\n",
       "      <td>NaN</td>\n",
       "      <td>2</td>\n",
       "      <td>249345</td>\n",
       "    </tr>\n",
       "    <tr>\n",
       "      <th>21</th>\n",
       "      <td>SOCIALUSE</td>\n",
       "      <td>object</td>\n",
       "      <td>NaN</td>\n",
       "      <td>NaN</td>\n",
       "      <td>2</td>\n",
       "      <td>181814</td>\n",
       "    </tr>\n",
       "    <tr>\n",
       "      <th>22</th>\n",
       "      <td>COMMERCIALUSE</td>\n",
       "      <td>object</td>\n",
       "      <td>NaN</td>\n",
       "      <td>NaN</td>\n",
       "      <td>2</td>\n",
       "      <td>218636</td>\n",
       "    </tr>\n",
       "    <tr>\n",
       "      <th>23</th>\n",
       "      <td>VEHICLEVALUE</td>\n",
       "      <td>float64</td>\n",
       "      <td>0.00</td>\n",
       "      <td>5.000000e+07</td>\n",
       "      <td>None</td>\n",
       "      <td>0</td>\n",
       "    </tr>\n",
       "    <tr>\n",
       "      <th>24</th>\n",
       "      <td>EQUIPMENTVALUE</td>\n",
       "      <td>float64</td>\n",
       "      <td>NaN</td>\n",
       "      <td>NaN</td>\n",
       "      <td>None</td>\n",
       "      <td>252425</td>\n",
       "    </tr>\n",
       "    <tr>\n",
       "      <th>25</th>\n",
       "      <td>INSURANCETYPE</td>\n",
       "      <td>object</td>\n",
       "      <td>NaN</td>\n",
       "      <td>NaN</td>\n",
       "      <td>1</td>\n",
       "      <td>0</td>\n",
       "    </tr>\n",
       "    <tr>\n",
       "      <th>26</th>\n",
       "      <td>MAINCLASS</td>\n",
       "      <td>object</td>\n",
       "      <td>NaN</td>\n",
       "      <td>NaN</td>\n",
       "      <td>16</td>\n",
       "      <td>0</td>\n",
       "    </tr>\n",
       "    <tr>\n",
       "      <th>27</th>\n",
       "      <td>DESCRIPTION</td>\n",
       "      <td>object</td>\n",
       "      <td>NaN</td>\n",
       "      <td>NaN</td>\n",
       "      <td>10</td>\n",
       "      <td>0</td>\n",
       "    </tr>\n",
       "    <tr>\n",
       "      <th>28</th>\n",
       "      <td>SUBCLASS</td>\n",
       "      <td>object</td>\n",
       "      <td>NaN</td>\n",
       "      <td>NaN</td>\n",
       "      <td>40</td>\n",
       "      <td>0</td>\n",
       "    </tr>\n",
       "    <tr>\n",
       "      <th>29</th>\n",
       "      <td>SUMINSURED</td>\n",
       "      <td>float64</td>\n",
       "      <td>0.00</td>\n",
       "      <td>9.794480e+08</td>\n",
       "      <td>None</td>\n",
       "      <td>0</td>\n",
       "    </tr>\n",
       "    <tr>\n",
       "      <th>30</th>\n",
       "      <td>ANNUALBASICPREMIUM</td>\n",
       "      <td>float64</td>\n",
       "      <td>-3328.78</td>\n",
       "      <td>4.596292e+07</td>\n",
       "      <td>None</td>\n",
       "      <td>0</td>\n",
       "    </tr>\n",
       "    <tr>\n",
       "      <th>31</th>\n",
       "      <td>ANNUALSRCCPREMIUM</td>\n",
       "      <td>float64</td>\n",
       "      <td>-13848.58</td>\n",
       "      <td>1.998175e+07</td>\n",
       "      <td>None</td>\n",
       "      <td>0</td>\n",
       "    </tr>\n",
       "    <tr>\n",
       "      <th>32</th>\n",
       "      <td>ANNUALTCPREMIUM</td>\n",
       "      <td>float64</td>\n",
       "      <td>-17460.78</td>\n",
       "      <td>4.147727e+06</td>\n",
       "      <td>None</td>\n",
       "      <td>0</td>\n",
       "    </tr>\n",
       "    <tr>\n",
       "      <th>33</th>\n",
       "      <td>ANNUALPREMIUMTOTAL</td>\n",
       "      <td>float64</td>\n",
       "      <td>0.01</td>\n",
       "      <td>4.596292e+07</td>\n",
       "      <td>None</td>\n",
       "      <td>0</td>\n",
       "    </tr>\n",
       "    <tr>\n",
       "      <th>34</th>\n",
       "      <td>CLAIMAMOUNT</td>\n",
       "      <td>float64</td>\n",
       "      <td>30.00</td>\n",
       "      <td>3.095266e+07</td>\n",
       "      <td>None</td>\n",
       "      <td>157614</td>\n",
       "    </tr>\n",
       "    <tr>\n",
       "      <th>35</th>\n",
       "      <td>REGISTRARIONID</td>\n",
       "      <td>int64</td>\n",
       "      <td>1.00</td>\n",
       "      <td>5.118500e+04</td>\n",
       "      <td>None</td>\n",
       "      <td>0</td>\n",
       "    </tr>\n",
       "  </tbody>\n",
       "</table>\n",
       "</div>"
      ],
      "text/plain": [
       "           Column Name Data Type  Min Value     Max Value Catagories  \\\n",
       "0               LINKID    object        NaN           NaN      38308   \n",
       "1         DOCUMENTDATE    object        NaN           NaN       3626   \n",
       "2           EXPIRYDATE    object        NaN           NaN       3908   \n",
       "3        INSUREDNATURE    object        NaN           NaN          2   \n",
       "4          DATEOFBIRTH    object        NaN           NaN       1119   \n",
       "5                  SEX    object        NaN           NaN          2   \n",
       "6        MARITALSTATUS    object        NaN           NaN          9   \n",
       "7           OCCUPATION    object        NaN           NaN        123   \n",
       "8           BRANCHCODE    object        NaN           NaN        205   \n",
       "9        DISTRINCTCODE    object        NaN           NaN         95   \n",
       "10        PROVINCECODE    object        NaN           NaN          9   \n",
       "11            ZONECODE    object        NaN           NaN         39   \n",
       "12                YEAR   float64       1.00  9.701000e+03       None   \n",
       "13         VEHICLETYPE    object        NaN           NaN         43   \n",
       "14                MAKE    object        NaN           NaN        336   \n",
       "15               MODEL    object        NaN           NaN       2471   \n",
       "16    REGISTRATIONDATE    object        NaN           NaN       5507   \n",
       "17             TONNAGE   float64       0.00  5.000000e+05       None   \n",
       "18     SEATINGCAPACITY   float64       1.00  3.170000e+02       None   \n",
       "19            FUELTYPE    object        NaN           NaN         27   \n",
       "20          NONROADUSE    object        NaN           NaN          2   \n",
       "21           SOCIALUSE    object        NaN           NaN          2   \n",
       "22       COMMERCIALUSE    object        NaN           NaN          2   \n",
       "23        VEHICLEVALUE   float64       0.00  5.000000e+07       None   \n",
       "24      EQUIPMENTVALUE   float64        NaN           NaN       None   \n",
       "25       INSURANCETYPE    object        NaN           NaN          1   \n",
       "26           MAINCLASS    object        NaN           NaN         16   \n",
       "27         DESCRIPTION    object        NaN           NaN         10   \n",
       "28            SUBCLASS    object        NaN           NaN         40   \n",
       "29          SUMINSURED   float64       0.00  9.794480e+08       None   \n",
       "30  ANNUALBASICPREMIUM   float64   -3328.78  4.596292e+07       None   \n",
       "31   ANNUALSRCCPREMIUM   float64  -13848.58  1.998175e+07       None   \n",
       "32     ANNUALTCPREMIUM   float64  -17460.78  4.147727e+06       None   \n",
       "33  ANNUALPREMIUMTOTAL   float64       0.01  4.596292e+07       None   \n",
       "34         CLAIMAMOUNT   float64      30.00  3.095266e+07       None   \n",
       "35      REGISTRARIONID     int64       1.00  5.118500e+04       None   \n",
       "\n",
       "    Null Values  \n",
       "0             0  \n",
       "1             0  \n",
       "2             0  \n",
       "3             0  \n",
       "4        248641  \n",
       "5        173317  \n",
       "6        232371  \n",
       "7        249613  \n",
       "8             0  \n",
       "9             0  \n",
       "10            0  \n",
       "11            0  \n",
       "12         6093  \n",
       "13        22802  \n",
       "14         1894  \n",
       "15         1816  \n",
       "16       170079  \n",
       "17        31872  \n",
       "18         1370  \n",
       "19         1516  \n",
       "20       249345  \n",
       "21       181814  \n",
       "22       218636  \n",
       "23            0  \n",
       "24       252425  \n",
       "25            0  \n",
       "26            0  \n",
       "27            0  \n",
       "28            0  \n",
       "29            0  \n",
       "30            0  \n",
       "31            0  \n",
       "32            0  \n",
       "33            0  \n",
       "34       157614  \n",
       "35            0  "
      ]
     },
     "execution_count": 7,
     "metadata": {},
     "output_type": "execute_result"
    }
   ],
   "source": [
    "# describe df\n",
    "dataframe_describe(df)"
   ]
  },
  {
   "cell_type": "markdown",
   "id": "de52a80a",
   "metadata": {
    "id": "de52a80a"
   },
   "source": [
    "## Data Pre Processing"
   ]
  },
  {
   "cell_type": "code",
   "execution_count": 8,
   "id": "57a6ce07",
   "metadata": {},
   "outputs": [],
   "source": [
    "# removing columns with lot of null values\n",
    "unimportant_cols = ['LINKID', 'REGISTRARIONID', 'DATEOFBIRTH', 'OCCUPATION', 'REGISTRATIONDATE', 'NONROADUSE', 'SOCIALUSE', 'COMMERCIALUSE', 'EQUIPMENTVALUE']\n",
    "df = df.drop(unimportant_cols, axis=1)"
   ]
  },
  {
   "cell_type": "markdown",
   "id": "8916f811",
   "metadata": {
    "id": "8916f811"
   },
   "source": [
    "#### 1. Data Pre Processing by Insurance Customer"
   ]
  },
  {
   "cell_type": "code",
   "execution_count": 9,
   "id": "08753bdc",
   "metadata": {
    "colab": {
     "base_uri": "https://localhost:8080/"
    },
    "id": "08753bdc",
    "outputId": "f79276ac-dcaf-47d7-85d4-8cf70622e991"
   },
   "outputs": [
    {
     "name": "stdout",
     "output_type": "stream",
     "text": [
      "Insured nature catogories :  ['C' 'I']\n"
     ]
    }
   ],
   "source": [
    "# insured nature catogories\n",
    "print('Insured nature catogories : ', df['INSUREDNATURE'].unique())"
   ]
  },
  {
   "cell_type": "code",
   "execution_count": 10,
   "id": "0f61840e",
   "metadata": {
    "colab": {
     "base_uri": "https://localhost:8080/"
    },
    "id": "0f61840e",
    "outputId": "997f630d-2822-4dd5-acdb-ea9abfe12dd8"
   },
   "outputs": [
    {
     "name": "stdout",
     "output_type": "stream",
     "text": [
      "df_i rows:  80196\n",
      "df_c rows:  172229\n"
     ]
    }
   ],
   "source": [
    "# divide df based on insured nature\n",
    "df_i = df.loc[df['INSUREDNATURE'] == 'I']\n",
    "df_c = df.loc[df['INSUREDNATURE'] == 'C']\n",
    "print('df_i rows: ', df_i.shape[0])\n",
    "print('df_c rows: ', df_c.shape[0])"
   ]
  },
  {
   "cell_type": "code",
   "execution_count": 11,
   "id": "6379a40d",
   "metadata": {
    "colab": {
     "base_uri": "https://localhost:8080/",
     "height": 175
    },
    "id": "6379a40d",
    "outputId": "434c67ed-5a26-4df2-90da-00196cf6dca3"
   },
   "outputs": [
    {
     "data": {
      "text/html": [
       "<div>\n",
       "<style scoped>\n",
       "    .dataframe tbody tr th:only-of-type {\n",
       "        vertical-align: middle;\n",
       "    }\n",
       "\n",
       "    .dataframe tbody tr th {\n",
       "        vertical-align: top;\n",
       "    }\n",
       "\n",
       "    .dataframe thead th {\n",
       "        text-align: right;\n",
       "    }\n",
       "</style>\n",
       "<table border=\"1\" class=\"dataframe\">\n",
       "  <thead>\n",
       "    <tr style=\"text-align: right;\">\n",
       "      <th></th>\n",
       "      <th>Column Name</th>\n",
       "      <th>Data Type</th>\n",
       "      <th>Min Value</th>\n",
       "      <th>Max Value</th>\n",
       "      <th>Catagories</th>\n",
       "      <th>Null Values</th>\n",
       "    </tr>\n",
       "  </thead>\n",
       "  <tbody>\n",
       "    <tr>\n",
       "      <th>0</th>\n",
       "      <td>SEX</td>\n",
       "      <td>object</td>\n",
       "      <td>None</td>\n",
       "      <td>None</td>\n",
       "      <td>2</td>\n",
       "      <td>1228</td>\n",
       "    </tr>\n",
       "    <tr>\n",
       "      <th>1</th>\n",
       "      <td>MARITALSTATUS</td>\n",
       "      <td>object</td>\n",
       "      <td>None</td>\n",
       "      <td>None</td>\n",
       "      <td>9</td>\n",
       "      <td>60207</td>\n",
       "    </tr>\n",
       "  </tbody>\n",
       "</table>\n",
       "</div>"
      ],
      "text/plain": [
       "     Column Name Data Type Min Value Max Value  Catagories  Null Values\n",
       "0            SEX    object      None      None           2         1228\n",
       "1  MARITALSTATUS    object      None      None           9        60207"
      ]
     },
     "execution_count": 11,
     "metadata": {},
     "output_type": "execute_result"
    }
   ],
   "source": [
    "# describe df_i\n",
    "dataframe_describe(df_i[['SEX', 'MARITALSTATUS']])"
   ]
  },
  {
   "cell_type": "code",
   "execution_count": 12,
   "id": "205bb3b5",
   "metadata": {
    "colab": {
     "base_uri": "https://localhost:8080/"
    },
    "id": "205bb3b5",
    "outputId": "5c5cc814-9b49-44d0-994f-aced055b3582"
   },
   "outputs": [
    {
     "name": "stderr",
     "output_type": "stream",
     "text": [
      "C:\\Users\\Ruchira Dias\\AppData\\Local\\Temp\\ipykernel_5012\\2423778699.py:2: SettingWithCopyWarning: \n",
      "A value is trying to be set on a copy of a slice from a DataFrame\n",
      "\n",
      "See the caveats in the documentation: https://pandas.pydata.org/pandas-docs/stable/user_guide/indexing.html#returning-a-view-versus-a-copy\n",
      "  df_i['SEX'].fillna('Unknown', inplace=True)\n",
      "C:\\Users\\Ruchira Dias\\AppData\\Local\\Temp\\ipykernel_5012\\2423778699.py:3: SettingWithCopyWarning: \n",
      "A value is trying to be set on a copy of a slice from a DataFrame\n",
      "\n",
      "See the caveats in the documentation: https://pandas.pydata.org/pandas-docs/stable/user_guide/indexing.html#returning-a-view-versus-a-copy\n",
      "  df_i['MARITALSTATUS'].fillna('N', inplace=True)\n"
     ]
    }
   ],
   "source": [
    "# replace null values in date of birth, sex & marital status columns with 'Unknown' in df_i\n",
    "df_i['SEX'].fillna('Unknown', inplace=True)\n",
    "df_i['MARITALSTATUS'].fillna('N', inplace=True)"
   ]
  },
  {
   "cell_type": "code",
   "execution_count": 13,
   "id": "88bd0345",
   "metadata": {
    "colab": {
     "base_uri": "https://localhost:8080/"
    },
    "id": "88bd0345",
    "outputId": "f86a7108-7f9e-4eba-cf00-cf917711846f"
   },
   "outputs": [
    {
     "name": "stdout",
     "output_type": "stream",
     "text": [
      "Marital status catogories:  ['N' 'M' 'W' 'S' 'A' '8' 'D' '`' 'V']\n"
     ]
    }
   ],
   "source": [
    "# marital status catogories\n",
    "print('Marital status catogories: ', df_i['MARITALSTATUS'].unique())"
   ]
  },
  {
   "cell_type": "code",
   "execution_count": 14,
   "id": "d36aae56",
   "metadata": {
    "id": "d36aae56"
   },
   "outputs": [],
   "source": [
    "# replace null and '`' values in marital status column with 'Unknown' in df_i\n",
    "df_i.loc[df_i['MARITALSTATUS'] == '8', 'MARITALSTATUS'] = 'N'\n",
    "df_i.loc[df_i['MARITALSTATUS'] == '`', 'MARITALSTATUS'] = 'N'"
   ]
  },
  {
   "cell_type": "code",
   "execution_count": 15,
   "id": "60192dc8",
   "metadata": {
    "colab": {
     "base_uri": "https://localhost:8080/",
     "height": 175
    },
    "id": "60192dc8",
    "outputId": "425b18e5-8d09-424f-d5ea-26609d019c0d"
   },
   "outputs": [
    {
     "data": {
      "text/html": [
       "<div>\n",
       "<style scoped>\n",
       "    .dataframe tbody tr th:only-of-type {\n",
       "        vertical-align: middle;\n",
       "    }\n",
       "\n",
       "    .dataframe tbody tr th {\n",
       "        vertical-align: top;\n",
       "    }\n",
       "\n",
       "    .dataframe thead th {\n",
       "        text-align: right;\n",
       "    }\n",
       "</style>\n",
       "<table border=\"1\" class=\"dataframe\">\n",
       "  <thead>\n",
       "    <tr style=\"text-align: right;\">\n",
       "      <th></th>\n",
       "      <th>Column Name</th>\n",
       "      <th>Data Type</th>\n",
       "      <th>Min Value</th>\n",
       "      <th>Max Value</th>\n",
       "      <th>Catagories</th>\n",
       "      <th>Null Values</th>\n",
       "    </tr>\n",
       "  </thead>\n",
       "  <tbody>\n",
       "    <tr>\n",
       "      <th>0</th>\n",
       "      <td>SEX</td>\n",
       "      <td>object</td>\n",
       "      <td>None</td>\n",
       "      <td>None</td>\n",
       "      <td>2</td>\n",
       "      <td>172089</td>\n",
       "    </tr>\n",
       "    <tr>\n",
       "      <th>1</th>\n",
       "      <td>MARITALSTATUS</td>\n",
       "      <td>object</td>\n",
       "      <td>None</td>\n",
       "      <td>None</td>\n",
       "      <td>1</td>\n",
       "      <td>172164</td>\n",
       "    </tr>\n",
       "  </tbody>\n",
       "</table>\n",
       "</div>"
      ],
      "text/plain": [
       "     Column Name Data Type Min Value Max Value  Catagories  Null Values\n",
       "0            SEX    object      None      None           2       172089\n",
       "1  MARITALSTATUS    object      None      None           1       172164"
      ]
     },
     "execution_count": 15,
     "metadata": {},
     "output_type": "execute_result"
    }
   ],
   "source": [
    "# describe df_c\n",
    "dataframe_describe(df_c[['SEX', 'MARITALSTATUS']])"
   ]
  },
  {
   "cell_type": "code",
   "execution_count": 16,
   "id": "f9fa3efa",
   "metadata": {
    "colab": {
     "base_uri": "https://localhost:8080/"
    },
    "id": "f9fa3efa",
    "outputId": "4b90b7c0-1470-449a-8037-5428d9576dea"
   },
   "outputs": [],
   "source": [
    "# replace all values in date of birth, sex, marital status & occupation columns with 'N/A' in df_c\n",
    "df_c.loc[df_c['SEX'] != 'N/A', 'SEX'] = 'N/A'\n",
    "df_c.loc[df_c['MARITALSTATUS'] != 'N/A', 'MARITALSTATUS'] = 'N/A'"
   ]
  },
  {
   "cell_type": "code",
   "execution_count": 17,
   "id": "fb2be965",
   "metadata": {
    "id": "fb2be965"
   },
   "outputs": [],
   "source": [
    "# concatenate df_i and df_c to df\n",
    "df = pd.concat([df_i, df_c])"
   ]
  },
  {
   "cell_type": "markdown",
   "id": "b0b67971",
   "metadata": {
    "id": "b0b67971"
   },
   "source": [
    "#### 2. Data Pre Processing by Vehicle"
   ]
  },
  {
   "cell_type": "code",
   "execution_count": 18,
   "id": "0bf42fcf",
   "metadata": {
    "colab": {
     "base_uri": "https://localhost:8080/",
     "height": 457
    },
    "id": "0bf42fcf",
    "outputId": "33539c70-b4c7-4e77-8f54-b56996290be5"
   },
   "outputs": [
    {
     "data": {
      "text/html": [
       "<div>\n",
       "<style scoped>\n",
       "    .dataframe tbody tr th:only-of-type {\n",
       "        vertical-align: middle;\n",
       "    }\n",
       "\n",
       "    .dataframe tbody tr th {\n",
       "        vertical-align: top;\n",
       "    }\n",
       "\n",
       "    .dataframe thead th {\n",
       "        text-align: right;\n",
       "    }\n",
       "</style>\n",
       "<table border=\"1\" class=\"dataframe\">\n",
       "  <thead>\n",
       "    <tr style=\"text-align: right;\">\n",
       "      <th></th>\n",
       "      <th>Column Name</th>\n",
       "      <th>Data Type</th>\n",
       "      <th>Min Value</th>\n",
       "      <th>Max Value</th>\n",
       "      <th>Catagories</th>\n",
       "      <th>Null Values</th>\n",
       "    </tr>\n",
       "  </thead>\n",
       "  <tbody>\n",
       "    <tr>\n",
       "      <th>0</th>\n",
       "      <td>YEAR</td>\n",
       "      <td>float64</td>\n",
       "      <td>1.0</td>\n",
       "      <td>9701.0</td>\n",
       "      <td>None</td>\n",
       "      <td>6093</td>\n",
       "    </tr>\n",
       "    <tr>\n",
       "      <th>1</th>\n",
       "      <td>VEHICLETYPE</td>\n",
       "      <td>object</td>\n",
       "      <td>NaN</td>\n",
       "      <td>NaN</td>\n",
       "      <td>43</td>\n",
       "      <td>22802</td>\n",
       "    </tr>\n",
       "    <tr>\n",
       "      <th>2</th>\n",
       "      <td>MAKE</td>\n",
       "      <td>object</td>\n",
       "      <td>NaN</td>\n",
       "      <td>NaN</td>\n",
       "      <td>336</td>\n",
       "      <td>1894</td>\n",
       "    </tr>\n",
       "    <tr>\n",
       "      <th>3</th>\n",
       "      <td>MODEL</td>\n",
       "      <td>object</td>\n",
       "      <td>NaN</td>\n",
       "      <td>NaN</td>\n",
       "      <td>2471</td>\n",
       "      <td>1816</td>\n",
       "    </tr>\n",
       "    <tr>\n",
       "      <th>4</th>\n",
       "      <td>TONNAGE</td>\n",
       "      <td>float64</td>\n",
       "      <td>0.0</td>\n",
       "      <td>500000.0</td>\n",
       "      <td>None</td>\n",
       "      <td>31872</td>\n",
       "    </tr>\n",
       "    <tr>\n",
       "      <th>5</th>\n",
       "      <td>SEATINGCAPACITY</td>\n",
       "      <td>float64</td>\n",
       "      <td>1.0</td>\n",
       "      <td>317.0</td>\n",
       "      <td>None</td>\n",
       "      <td>1370</td>\n",
       "    </tr>\n",
       "    <tr>\n",
       "      <th>6</th>\n",
       "      <td>FUELTYPE</td>\n",
       "      <td>object</td>\n",
       "      <td>NaN</td>\n",
       "      <td>NaN</td>\n",
       "      <td>27</td>\n",
       "      <td>1516</td>\n",
       "    </tr>\n",
       "    <tr>\n",
       "      <th>7</th>\n",
       "      <td>VEHICLEVALUE</td>\n",
       "      <td>float64</td>\n",
       "      <td>0.0</td>\n",
       "      <td>50000000.0</td>\n",
       "      <td>None</td>\n",
       "      <td>0</td>\n",
       "    </tr>\n",
       "  </tbody>\n",
       "</table>\n",
       "</div>"
      ],
      "text/plain": [
       "       Column Name Data Type  Min Value   Max Value Catagories  Null Values\n",
       "0             YEAR   float64        1.0      9701.0       None         6093\n",
       "1      VEHICLETYPE    object        NaN         NaN         43        22802\n",
       "2             MAKE    object        NaN         NaN        336         1894\n",
       "3            MODEL    object        NaN         NaN       2471         1816\n",
       "4          TONNAGE   float64        0.0    500000.0       None        31872\n",
       "5  SEATINGCAPACITY   float64        1.0       317.0       None         1370\n",
       "6         FUELTYPE    object        NaN         NaN         27         1516\n",
       "7     VEHICLEVALUE   float64        0.0  50000000.0       None            0"
      ]
     },
     "execution_count": 18,
     "metadata": {},
     "output_type": "execute_result"
    }
   ],
   "source": [
    "# describe df by vehicle\n",
    "dataframe_describe(df[['YEAR', 'VEHICLETYPE', 'MAKE', 'MODEL', 'TONNAGE', 'SEATINGCAPACITY', 'FUELTYPE', 'VEHICLEVALUE']])"
   ]
  },
  {
   "cell_type": "code",
   "execution_count": 19,
   "id": "1cfba0b8",
   "metadata": {
    "id": "1cfba0b8"
   },
   "outputs": [],
   "source": [
    "# replace null values in columns with 'Unknown'\n",
    "df['YEAR'].fillna('Unknown', inplace=True)\n",
    "df['MAKE'].fillna('Unkown', inplace=True)\n",
    "df['MODEL'].fillna('Unkown', inplace=True)\n",
    "df['VEHICLETYPE'].fillna('Unkown', inplace=True)\n",
    "df['TONNAGE'].fillna('Unkown', inplace=True)\n",
    "df['SEATINGCAPACITY'].fillna('Unkown', inplace=True)\n",
    "df['FUELTYPE'].fillna('Unkown', inplace=True)"
   ]
  },
  {
   "cell_type": "code",
   "execution_count": 20,
   "id": "198e97bd",
   "metadata": {
    "colab": {
     "base_uri": "https://localhost:8080/"
    },
    "id": "198e97bd",
    "outputId": "d13c7991-8d97-4a9f-e940-389b49dee70d"
   },
   "outputs": [
    {
     "name": "stdout",
     "output_type": "stream",
     "text": [
      "Vehicle type catogories:  ['LORRY' 'CAR' 'VAN' 'MOTOR CYCLE' 'THREE WHEELER' 'OTHER' 'SINGLE-CAB'\n",
      " 'TRAILER' 'Unkown' 'DOUBLE-CAB' 'BUS' 'JEEP' 'TRACTOR' 'OTHERS' 'SCOOTER'\n",
      " 'HAND TRACTOR' 'TIPPER' 'PRY-MOVER' 'CREW-CAB' 'DUAL PURPOSE'\n",
      " 'TRADE PLATE' 'MOTOR LORRY' 'DOUBLE CAB' 'M/CYCLE' 'THREEWHEELER'\n",
      " 'CREW CAB' 'CARAVAN' 'M/LORRY' 'O' 'MOTOR CAR' '.' 'OTHETR'\n",
      " 'BACKHOE LOADER' 'STATION_WAGON' 'OCAR' 'TRICYCLE VAN' 'M/CAR'\n",
      " 'DUALPURPOSE' 'D/P VEHICLE' 'INVAID CARRIGE' 'MOTOR TRICYCLE' 'CA'\n",
      " 'CD DAWN' 'CARAVAN_TRAILER']\n"
     ]
    }
   ],
   "source": [
    "# vehicle type catogories\n",
    "print('Vehicle type catogories: ', df['VEHICLETYPE'].unique())"
   ]
  },
  {
   "cell_type": "code",
   "execution_count": 21,
   "id": "5e849806",
   "metadata": {
    "id": "5e849806"
   },
   "outputs": [],
   "source": [
    "# correct values in vehicle type column with correct value\n",
    "df.loc[df['VEHICLETYPE'] == 'OTHERS', 'VEHICLETYPE'] = 'OTHER'\n",
    "df.loc[df['VEHICLETYPE'] == 'OTHETR', 'VEHICLETYPE'] = 'OTHER'\n",
    "df.loc[df['VEHICLETYPE'] == 'O', 'VEHICLETYPE'] = 'OTHER'\n",
    "df.loc[df['VEHICLETYPE'] == '.', 'VEHICLETYPE'] = 'OTHER'\n",
    "\n",
    "df.loc[df['VEHICLETYPE'] == 'M/CAR', 'VEHICLETYPE'] = 'CAR'\n",
    "df.loc[df['VEHICLETYPE'] == 'MOTOR CAR', 'VEHICLETYPE'] = 'CAR'\n",
    "df.loc[df['VEHICLETYPE'] == 'OCAR', 'VEHICLETYPE'] = 'CAR'\n",
    "df.loc[df['VEHICLETYPE'] == 'CA', 'VEHICLETYPE'] = 'CAR'\n",
    "\n",
    "df.loc[df['VEHICLETYPE'] == 'M/CYCLE', 'VEHICLETYPE'] = 'MOTOR CYCLE'\n",
    "df.loc[df['VEHICLETYPE'] == 'CD DAWN', 'VEHICLETYPE'] = 'SCOOTER'\n",
    "\n",
    "df.loc[df['VEHICLETYPE'] == 'THREEWHEELER', 'VEHICLETYPE'] = 'THREE WHEELER'\n",
    "\n",
    "df.loc[df['VEHICLETYPE'] == 'M/LORRY', 'VEHICLETYPE'] = 'LORRY'\n",
    "df.loc[df['VEHICLETYPE'] == 'MOTOR LORRY', 'VEHICLETYPE'] = 'LORRY'\n",
    "\n",
    "df.loc[df['VEHICLETYPE'] == 'DUALPURPOSE', 'VEHICLETYPE'] = 'DUAL PURPOSE'\n",
    "df.loc[df['VEHICLETYPE'] == 'D/P VEHICLE', 'VEHICLETYPE'] = 'DUAL PURPOSE'\n",
    "\n",
    "df.loc[df['VEHICLETYPE'] == 'PRY-MOVER', 'VEHICLETYPE'] = 'PRY MOVER'\n",
    "df.loc[df['VEHICLETYPE'] == 'CREW-CAB', 'VEHICLETYPE'] = 'CREW CAB'\n",
    "df.loc[df['VEHICLETYPE'] == 'SINGLE-CAB', 'VEHICLETYPE'] = 'SINGLE CAB'\n",
    "df.loc[df['VEHICLETYPE'] == 'DOUBLE-CAB', 'VEHICLETYPE'] = 'DOUBLE CAB'\n",
    "df.loc[df['VEHICLETYPE'] == 'STATION_WAGON', 'VEHICLETYPE'] = 'STATION WAGON'\n",
    "df.loc[df['VEHICLETYPE'] == 'CARAVAN_TRAILER', 'VEHICLETYPE'] = 'TRAILER'"
   ]
  },
  {
   "cell_type": "code",
   "execution_count": 22,
   "id": "11fbd606",
   "metadata": {
    "colab": {
     "base_uri": "https://localhost:8080/"
    },
    "id": "11fbd606",
    "outputId": "20ff18e6-ab84-4406-e6ce-ad59a8ec01eb"
   },
   "outputs": [
    {
     "name": "stdout",
     "output_type": "stream",
     "text": [
      "Maker catogories:  ['.', 'ABL', 'ACTO', 'AEC', 'AEOLUS', 'AESL', 'AGRATI', 'AGRIMEC', 'AGRO', 'AGROTECH', 'AI RACING', 'AIRACING', 'AL RACINO', 'ALBA', 'ALBA.', 'ALFA ROMEO', 'ALTO', 'AMBASSADOR', 'APPRILA', 'ASHOK', 'ASHOK LAYLAND', 'ASHOK LEYLAND', 'ASIA WING', 'ASOK LEYLAND', 'ASOKALEYLAND', 'ATCO', 'AUDI', 'AUSTIN', 'B', 'B.M.W', 'BAJAJ', 'BAJAJ BOXER', 'BALAJ', 'BEIJING', 'BENDZ', 'BMC', 'BMW', 'BORELANDS', 'BRILLIANCE SHINERAY', 'BYD', 'CADILAC', 'CAL', 'CASE', 'CATERPILAR', 'CATERPILLAR', 'CENFIN', 'CEYGRA', 'CHANA', 'CHANGAN', 'CHERRY', 'CHERY', 'CHEVROLET', 'CHRYSLER', 'CIC', 'CIMC SINOTRUK', 'CITROEN', 'DAEWOO', 'DAF', 'DAIDO', 'DAIHATSU', 'DAIMLER', 'DATSUN', 'DAVE', 'DAYANG', 'DEMAK', 'DEMARK', 'DFSK', 'DIAHATSU', 'DILAN', 'DONG FENG', 'DONGFENG', 'DONGFENO', 'DOOSAN', 'DUTCH LANAKA', 'DUTCH LANKA', 'DUTCH LANKA TRA', 'DUTCHLANKA', 'DYNAMIC', 'E R F', 'ECONO', 'EDGRO', 'EICHER', 'ELCHER', 'ELECTRA', 'EMPEROR', 'ERF', 'ESCORT', 'ESCORTS', 'FAMAS', 'FARM MASTER', 'FARM WELL', 'FARMERS', 'FARMTRAC', 'FAW', 'FERGUSION', 'FIAT', 'FORCE', 'FORD', 'FOTON', 'FREIGHT ROVER', 'FUDA', 'GEELY', 'GRAND', 'GREATWALL', 'HERCULES', 'HERO', 'HERO HONDA', 'HERO MHONDA', 'HEROWHEELS', 'HIBIRD', 'HICOM', 'HINO', 'HITACHI', 'HOCK NAM SENG', 'HONDA', 'HONSAI', 'HUAWEI', 'HUMBER', 'HUMMER', 'HYOSUN', 'HYUNDAI', 'I.M.T.', 'IMT', 'ISSUZU', 'ISUZU', 'ISUZU TRUCK', 'IVECO', 'J C B', 'J M C', 'J.C.B', 'J.C.B.', 'JAC', 'JAGUAR', 'JALING', 'JAY MASTER', 'JCA', 'JCB', 'JCB3CX-4 BACKHO', 'JEEP', 'JIALING', 'JINDO', 'JINHAO', 'JMC', 'JOHN DEER', 'JOHN DEERE', 'JOHNDEERE', 'JONWAY', 'KAMAZ', 'KAWASAKI', 'KELISA', 'KENARI', 'KIA', 'KINETIC', 'KING FANG', 'KING LONG', 'KINGTON', 'KOBELCO', 'KOMATSU', 'KUBOTA', 'KUMOTA', 'KYRON', 'L & T CASE', 'LADA', 'LANAKA ASHOK', 'LAND CRUISER', 'LAND ROVER', 'LANKA', 'LANKA ASHOK', 'LANKA ASHOK ELY', 'LANKA ASHOK LAY', 'LANKA ASHOK LED', 'LANKA ASHOK LEY', 'LANKA ASHOK LEYLAND', 'LEXUS', 'LEYLAND', 'LIFAN', 'LML', 'LOCALLY BUILT', 'LOCALY BUILT', 'LONCIN', 'LOTUS', 'M.T.L.', 'MAHENDRA', 'MAHINDRA', 'MAN', 'MAOJIANEY', 'MARK III', 'MARUTI', 'MARUTU', 'MASSEY FERGUSON', 'MASSEYFERGUSON', 'MAZDA', 'MBK', 'ME', 'MEIYA', 'MERCEDES', 'MERCEDES BENZ', 'MEROEVON', 'METONG', 'MF240', 'MG', 'MICRO', 'MICRO SSANGYONG', 'MILLAT', 'MINI', 'MINNELLI', 'MITSHUBSHI', 'MITSUBISH', 'MITSUBISHI', 'MITSUBISI', 'MITTUBISHI', 'MITUSBISHI', 'MODENAS', 'MORRIS', 'MUBOTA', 'NEVORP', 'NEW HOLLAND', 'NEW LAND', 'NEW LEON', 'NEW LION', 'NI', 'NIKU', 'NIROSH', 'NIROSH TRAILER', 'NISSAN', 'NITRO', 'NOMAD', 'OPEL', 'OTHER', 'OTHERS', 'OTTAWA', 'PACE', 'PARAGON', 'PERODUA', 'PEUGEOT', 'PIAGGIO', 'PIAGGIO-APE', 'PORSCHE', 'POTAIN', 'PROTON', 'QUNGQI', 'RANOMOTO', 'RANOMOTTO', 'RENAULT', 'RICHER', 'ROVER', 'ROYAL ENFIELD', 'SAME', 'SANLO', 'SANPAC', 'SANYANG', 'SCAMMEL', 'SCAMMER', 'SCANIA', 'SHANG HAI', 'SIFANG', 'SIKIFU', 'SING', 'SINGER', 'SINOTRUK', 'SKANDIG', 'SKELETAL', 'SKODA', 'SKY LINE', 'SKY-LINE', 'SKYGO', 'SMART FARMER', 'SONALIKA', 'SRI TRACK', 'SRITRAC', 'SSANGYONG', 'STARLINE', 'STERLING', 'SUBARU', 'SUNBEAM', 'SUNFAANG', 'SUNLONG', 'SUZUKI', 'SUZUKI MARUTI', 'SWARAJ', 'TAFE', 'TAILOR', 'TAISHAN', 'TANIRI', 'TANTRI', 'TANTRY', 'TATA', 'TCM', 'TEKSON', 'TERBERG', 'TIGER', 'TOYO', 'TOYOTA', 'TOYOTA ALLION', 'TOYOTA COROLLA', 'TOYOTA YARIS', 'TOYOYA', 'TRACNO', 'TRACTOR', 'TRADE', 'TRADE PLATE', 'TRAE PLATE', 'TRAILER (EM/TP)', 'TRANTRY', 'TRNTRY', 'TVS', 'Toyota Corolla ', 'Trailer        ', 'UMAZAKI', 'Unkown', 'VESPA', 'VIKINO', 'VIKYNO', 'VIMUKT', 'VIVA', 'VOLKSWAGEN', 'VOLKSWAGON', 'VOLVO', 'VOVO', 'W & A CHASSIS', 'WANCH', 'WANHU', 'WIMAL', 'WIMALA', 'WINNER', 'WUYANG', 'YAMAHA', 'YAMASHA', 'YANMAR', 'YONGTUO', 'YORK', 'YUEJIN', 'ZNEN', 'ZONDA', 'ZONGSHEN', 'ZOOMLION', 'ZOTYE']\n"
     ]
    }
   ],
   "source": [
    "# maker catogories\n",
    "print('Maker catogories: ', sorted(df['MAKE'].unique()))"
   ]
  },
  {
   "cell_type": "code",
   "execution_count": 23,
   "id": "f090d2cb",
   "metadata": {
    "id": "f090d2cb"
   },
   "outputs": [],
   "source": [
    "# correct values in make column with correct value\n",
    "df.loc[df['MAKE'] == 'OTHERS', 'MAKE'] = 'OTHER'\n",
    "\n",
    "df.loc[df['MAKE'] == 'BAJAJ BOXER', 'MAKE'] = 'BAJAJ'\n",
    "df.loc[df['MAKE'] == 'BALAJ', 'MAKE'] = 'BOXER'\n",
    "\n",
    "df.loc[df['MAKE'] == 'BENDZ', 'MODEL'] = 'OTHER'\n",
    "df.loc[df['MAKE'] == 'BENDZ', 'MAKE'] = 'BENZ'\n",
    "\n",
    "df.loc[df['MAKE'] == 'B.M.W', 'MAKE'] = 'BMW'\n",
    "\n",
    "df.loc[df['MAKE'] == 'DUTCH LANAKA', 'MAKE'] = 'DUTCH LANKA'\n",
    "df.loc[df['MAKE'] == 'DUTCH LANKA TRA', 'MAKE'] = 'DUTCH LANKA'\n",
    "df.loc[df['MAKE'] == 'DUTCHLANKA', 'MAKE'] = 'DUTCH LANKA'\n",
    "\n",
    "df.loc[df['MAKE'] == 'I.M.T.', 'MAKE'] = 'IMT'\n",
    "\n",
    "df.loc[df['MAKE'] == 'ISSUZU', 'MAKE'] = 'ISUZU'\n",
    "df.loc[df['MAKE'] == 'ISUZU TRUCK', 'MAKE'] = 'ISUZU'\n",
    "\n",
    "df.loc[df['MAKE'] == 'J C B', 'MAKE'] = 'JCB'\n",
    "df.loc[df['MAKE'] == 'J.C.B', 'MAKE'] = 'JCB'\n",
    "df.loc[df['MAKE'] == 'J.C.B.', 'MAKE'] = 'JCB'\n",
    "df.loc[df['MAKE'] == 'JCB3CX-4 BACKHO', 'MAKE'] = 'JCB'\n",
    "\n",
    "df.loc[df['MAKE'] == 'J M C', 'MAKE'] = 'JMC'\n",
    "\n",
    "df.loc[df['MAKE'] == 'LANAKA ASHOK', 'MAKE'] = 'LANKA ASHOK LEYLAND'\n",
    "df.loc[df['MAKE'] == 'LANKA', 'MAKE'] = 'LANKA ASHOK LEYLAND'\n",
    "df.loc[df['MAKE'] == 'LANKA ASHOK', 'MAKE'] = 'LANKA ASHOK LEYLAND'\n",
    "df.loc[df['MAKE'] == 'LANKA ASHOK ELY', 'MAKE'] = 'LANKA ASHOK LEYLAND'\n",
    "df.loc[df['MAKE'] == 'LANKA ASHOK LAY', 'MAKE'] = 'LANKA ASHOK LEYLAND'\n",
    "df.loc[df['MAKE'] == 'LANKA ASHOK LED', 'MAKE'] = 'LANKA ASHOK LEYLAND'\n",
    "df.loc[df['MAKE'] == 'LANKA ASHOK LEY', 'MAKE'] = 'LANKA ASHOK LEYLAND'\n",
    "\n",
    "df.loc[df['MAKE'] == 'ASHOK', 'MAKE'] = 'ASHOK LEYLAND'\n",
    "df.loc[df['MAKE'] == 'ASHOK LAYLAND', 'MAKE'] = 'ASHOK LEYLAND'\n",
    "df.loc[df['MAKE'] == 'ASOK LEYLAND', 'MAKE'] = 'ASHOK LEYLAND'\n",
    "df.loc[df['MAKE'] == 'ASOKALEYLAND', 'MAKE'] = 'ASHOK LEYLAND'\n",
    "\n",
    "df.loc[df['MAKE'] == 'MARUTU', 'MAKE'] = 'MARUTI'\n",
    "\n",
    "df.loc[df['MAKE'] == 'PIAGGIO-APE', 'MAKE'] = 'PIAGGIO'\n",
    "\n",
    "df.loc[df['MAKE'] == 'SKY-LINE', 'MAKE'] = 'SKY LINE'\n",
    "\n",
    "df.loc[df['MAKE'] == 'TOYOTA ALLION', 'MAKE'] = 'TOYOTA'\n",
    "df.loc[df['MAKE'] == 'TOYOTA COROLLA', 'MAKE'] = 'TOYOTA'\n",
    "df.loc[df['MAKE'] == 'TOYOTA YARIS', 'MAKE'] = 'TOYOTA'\n",
    "df.loc[df['MAKE'] == 'TOYOYA', 'MAKE'] = 'TOYOTA'\n",
    "df.loc[df['MAKE'] == 'Toyota Corolla ', 'MAKE'] = 'TOYOTA'\n",
    "\n",
    "df.loc[df['MAKE'] == 'TRADE', 'MAKE'] = 'TRADE PLATE'\n",
    "df.loc[df['MAKE'] == 'TRAE PLATE', 'MAKE'] = 'TRADE PLATE'\n",
    "df.loc[df['MAKE'] == 'TRADE PLATE', 'MODEL'] = 'TRADE PLATE'\n",
    "df.loc[df['MAKE'] == 'TRADE PLATE', 'VEHICLETYPE'] = 'TRADE PLATE'\n",
    "\n",
    "df.loc[df['MAKE'] == 'TAILOR', 'VEHICLETYPE'] = 'OTHER'\n",
    "\n",
    "df.loc[df['MAKE'] == 'TRAILER (EM/TP)', 'MAKE'] = 'TRAILER'\n",
    "df.loc[df['MAKE'] == 'Trailer        ', 'MODEL'] = 'TRAILER'\n",
    "df.loc[df['MAKE'] == 'Trailer        ', 'VEHICLETYPE'] = 'TRAILER'\n",
    "df.loc[df['MAKE'] == 'Trailer        ', 'MAKE'] = 'TRAILER'"
   ]
  },
  {
   "cell_type": "code",
   "execution_count": 24,
   "id": "39eaefb8",
   "metadata": {
    "id": "39eaefb8"
   },
   "outputs": [],
   "source": [
    "# replace others values in model column with 'OTHER'\n",
    "df.loc[df['MODEL'] == 'OTHERS', 'MODEL'] = 'OTHER'"
   ]
  },
  {
   "cell_type": "code",
   "execution_count": 25,
   "id": "e0e77502",
   "metadata": {
    "colab": {
     "base_uri": "https://localhost:8080/"
    },
    "id": "e0e77502",
    "outputId": "2b5d661e-1899-49e5-d327-65f021fbba42"
   },
   "outputs": [
    {
     "name": "stdout",
     "output_type": "stream",
     "text": [
      "Fuel type catogories:  ['DIESEL' 'PETROL' 'HYB_PETROL' 'Unkown' 'ELECTRIC' 'P' 'PE' '.'\n",
      " 'HYB_DIESEL' 'PETORL' 'DESEL' ' PETROL' 'DES' 'PETROL/GAS' 'GAS'\n",
      " 'NOT STATED' 'DE' '-' '1PETROL' '1998' 'PETRAL' 'TPETROL' 'NOT STARTED'\n",
      " '2' '.PETROL' '..' 'PRYTOL' '246700']\n"
     ]
    }
   ],
   "source": [
    "# fuel type catogories\n",
    "print('Fuel type catogories: ', df['FUELTYPE'].unique())"
   ]
  },
  {
   "cell_type": "code",
   "execution_count": 26,
   "id": "bc0108a2",
   "metadata": {
    "id": "bc0108a2"
   },
   "outputs": [],
   "source": [
    "# correct values in fuel type column with correct value\n",
    "df.loc[df['FUELTYPE'] == '.', 'FUELTYPE'] = 'Unkown'\n",
    "df.loc[df['FUELTYPE'] == '-', 'FUELTYPE'] = 'Unkown'\n",
    "df.loc[df['FUELTYPE'] == '..', 'FUELTYPE'] = 'Unkown'\n",
    "df.loc[df['FUELTYPE'] == '2', 'FUELTYPE'] = 'Unkown'\n",
    "df.loc[df['FUELTYPE'] == '1998', 'FUELTYPE'] = 'Unkown'\n",
    "df.loc[df['FUELTYPE'] == '246700', 'FUELTYPE'] = 'Unkown'\n",
    "df.loc[df['FUELTYPE'] == 'NOT STATED', 'FUELTYPE'] = 'Unkown'\n",
    "df.loc[df['FUELTYPE'] == 'NOT STARTED', 'FUELTYPE'] = 'Unkown'\n",
    "\n",
    "df.loc[df['FUELTYPE'] == 'P', 'FUELTYPE'] = 'PETROL'\n",
    "df.loc[df['FUELTYPE'] == 'PE', 'FUELTYPE'] = 'PETROL'\n",
    "df.loc[df['FUELTYPE'] == 'PETORL', 'FUELTYPE'] = 'PETROL'\n",
    "df.loc[df['FUELTYPE'] == ' PETROL', 'FUELTYPE'] = 'PETROL'\n",
    "df.loc[df['FUELTYPE'] == '1PETROL', 'FUELTYPE'] = 'PETROL'\n",
    "df.loc[df['FUELTYPE'] == 'PETRAL', 'FUELTYPE'] = 'PETROL'\n",
    "df.loc[df['FUELTYPE'] == 'TPETROL', 'FUELTYPE'] = 'PETROL'\n",
    "df.loc[df['FUELTYPE'] == '.PETROL', 'FUELTYPE'] = 'PETROL'\n",
    "df.loc[df['FUELTYPE'] == 'PRYTOL', 'FUELTYPE'] = 'PETROL'\n",
    "\n",
    "df.loc[df['FUELTYPE'] == 'DESEL', 'FUELTYPE'] = 'DIESEL'\n",
    "df.loc[df['FUELTYPE'] == 'DES', 'FUELTYPE'] = 'DIESEL'\n",
    "df.loc[df['FUELTYPE'] == 'DE', 'FUELTYPE'] = 'DIESEL'"
   ]
  },
  {
   "cell_type": "markdown",
   "id": "99aeecff",
   "metadata": {
    "id": "99aeecff"
   },
   "source": [
    "## Feature Engineering"
   ]
  },
  {
   "cell_type": "code",
   "execution_count": 27,
   "id": "b2268b3c",
   "metadata": {
    "id": "b2268b3c"
   },
   "outputs": [],
   "source": [
    "# add policy effective days column to df\n",
    "df['DOCUMENTDATE'] = pd.to_datetime(df['DOCUMENTDATE'])\n",
    "df['EXPIRYDATE'] = pd.to_datetime(df['EXPIRYDATE'])\n",
    "df['EFFECTIVEDAYS'] = (df['EXPIRYDATE'] - df['DOCUMENTDATE']).dt.days\n",
    "df = df[df['EFFECTIVEDAYS'] > 0]"
   ]
  },
  {
   "cell_type": "code",
   "execution_count": 28,
   "id": "77100cf7",
   "metadata": {
    "id": "77100cf7"
   },
   "outputs": [],
   "source": [
    "# add risk score column to df\n",
    "df['RISKSCORE'] = (df['CLAIMAMOUNT'] / df['ANNUALPREMIUMTOTAL'])\n",
    "df['RISKSCORE'].fillna(0, inplace=True)\n",
    "df['RISKSCORE'] = df['RISKSCORE'].replace(np.inf, 0)"
   ]
  },
  {
   "cell_type": "code",
   "execution_count": 29,
   "id": "22815790",
   "metadata": {
    "id": "22815790"
   },
   "outputs": [],
   "source": [
    "df = df[['INSUREDNATURE', 'SEX', 'MARITALSTATUS', 'BRANCHCODE', 'DISTRINCTCODE', 'PROVINCECODE', 'ZONECODE',\n",
    "    'YEAR', 'VEHICLETYPE', 'MAKE', 'MODEL', 'TONNAGE', 'SEATINGCAPACITY', 'FUELTYPE', 'VEHICLEVALUE',\n",
    "    'MAINCLASS', 'SUBCLASS', 'EFFECTIVEDAYS', 'SUMINSURED',\n",
    "    'ANNUALBASICPREMIUM', 'ANNUALSRCCPREMIUM', 'ANNUALTCPREMIUM', 'ANNUALPREMIUMTOTAL', 'RISKSCORE']]"
   ]
  },
  {
   "cell_type": "code",
   "execution_count": 30,
   "id": "168e3dda",
   "metadata": {
    "id": "168e3dda"
   },
   "outputs": [],
   "source": [
    "# convert columns to string\n",
    "df['YEAR'] = df['YEAR'].astype(str)\n",
    "df['TONNAGE'] = df['TONNAGE'].astype(str)\n",
    "df['SEATINGCAPACITY'] = df['SEATINGCAPACITY'].astype(str)"
   ]
  },
  {
   "cell_type": "code",
   "execution_count": 31,
   "id": "4f6b4494",
   "metadata": {},
   "outputs": [],
   "source": [
    "# saving pre processed and feature enginered dataset \n",
    "df.to_csv('new_dataset.csv', index=False)"
   ]
  },
  {
   "cell_type": "code",
   "execution_count": 32,
   "id": "3ef46b92",
   "metadata": {
    "id": "3ef46b92"
   },
   "outputs": [],
   "source": [
    "# encoding the categorical columns\n",
    "le1 = LabelEncoder()\n",
    "df['INSUREDNATURE_encoded'] = le1.fit_transform(df['INSUREDNATURE'])\n",
    "le2 = LabelEncoder()\n",
    "df['SEX_encoded'] = le2.fit_transform(df['SEX'])\n",
    "le3 = LabelEncoder()\n",
    "df['MARITALSTATUS_encoded'] = le3.fit_transform(df['MARITALSTATUS'])\n",
    "le4 = LabelEncoder()\n",
    "df['BRANCHCODE_encoded'] = le4.fit_transform(df['BRANCHCODE'])\n",
    "le5 = LabelEncoder()\n",
    "df['DISTRINCTCODE_encoded'] = le5.fit_transform(df['DISTRINCTCODE'])\n",
    "le6 = LabelEncoder()\n",
    "df['PROVINCECODE_encoded'] = le6.fit_transform(df['PROVINCECODE'])\n",
    "le7 = LabelEncoder()\n",
    "df['ZONECODE_encoded'] = le7.fit_transform(df['ZONECODE'])\n",
    "le8 = LabelEncoder()\n",
    "df['YEAR_encoded'] = le8.fit_transform(df['YEAR'])\n",
    "le9 = LabelEncoder()\n",
    "df['VEHICLETYPE_encoded'] = le9.fit_transform(df['VEHICLETYPE'])\n",
    "le10 = LabelEncoder()\n",
    "df['MAKE_encoded'] = le10.fit_transform(df['MAKE'])\n",
    "le11 = LabelEncoder()\n",
    "df['MODEL_encoded'] = le11.fit_transform(df['MODEL'])\n",
    "le12 = LabelEncoder()\n",
    "df['TONNAGE_encoded'] = le12.fit_transform(df['TONNAGE'])\n",
    "le13 = LabelEncoder()\n",
    "df['SEATINGCAPACITY_encoded'] = le13.fit_transform(df['SEATINGCAPACITY'])\n",
    "le14 = LabelEncoder()\n",
    "df['FUELTYPE_encoded'] = le14.fit_transform(df['FUELTYPE'])\n",
    "le15 = LabelEncoder()\n",
    "df['MAINCLASS_encoded'] = le15.fit_transform(df['MAINCLASS'])\n",
    "le16 = LabelEncoder()\n",
    "df['SUBCLASS_encoded'] = le16.fit_transform(df['SUBCLASS'])"
   ]
  },
  {
   "cell_type": "markdown",
   "id": "5a07cb0b",
   "metadata": {
    "id": "5a07cb0b"
   },
   "source": [
    "## Model Selection "
   ]
  },
  {
   "cell_type": "code",
   "execution_count": 33,
   "id": "fa17da5c",
   "metadata": {
    "id": "fa17da5c"
   },
   "outputs": [],
   "source": [
    "# getting df with immportant columns\n",
    "df = df[['INSUREDNATURE_encoded', 'SEX_encoded', 'MARITALSTATUS_encoded',\n",
    "    'BRANCHCODE_encoded', 'DISTRINCTCODE_encoded', 'PROVINCECODE_encoded', 'ZONECODE_encoded', \n",
    "    'YEAR_encoded', 'VEHICLETYPE_encoded', 'MAKE_encoded', 'MODEL_encoded', 'TONNAGE_encoded', 'SEATINGCAPACITY_encoded', 'FUELTYPE_encoded',\n",
    "    'MAINCLASS_encoded', 'SUBCLASS_encoded', 'EFFECTIVEDAYS', 'VEHICLEVALUE', 'SUMINSURED', \n",
    "    'ANNUALBASICPREMIUM', 'ANNUALSRCCPREMIUM', 'ANNUALTCPREMIUM', 'ANNUALPREMIUMTOTAL', 'RISKSCORE']]"
   ]
  },
  {
   "cell_type": "code",
   "execution_count": 34,
   "id": "1a4b50e6",
   "metadata": {
    "id": "1a4b50e6"
   },
   "outputs": [],
   "source": [
    "# split data into training and testing data\n",
    "X = df.drop('RISKSCORE', axis=1)\n",
    "y = df['RISKSCORE']\n",
    "X_train, X_test, y_train, y_test = train_test_split(X, y, test_size=0.2, random_state=42)"
   ]
  },
  {
   "cell_type": "code",
   "execution_count": 35,
   "id": "897030c4",
   "metadata": {},
   "outputs": [],
   "source": [
    "# machine learning models and params for hyperparameter tuning\n",
    "models = [\n",
    "    {\n",
    "        'name': 'Linear Regression',\n",
    "        'model': LinearRegression(),\n",
    "        'params': {}\n",
    "    },\n",
    "    {\n",
    "        'name': 'Decision Tree',\n",
    "        'model': DecisionTreeRegressor(),\n",
    "        'params': {\n",
    "            'max_depth': [3, 5, None],\n",
    "            'min_samples_leaf': [1, 2, 4]\n",
    "        }\n",
    "    },\n",
    "    {\n",
    "        'name': 'Random Forest',\n",
    "        'model': RandomForestRegressor(),\n",
    "        'params': {\n",
    "            'n_estimators': [50, 100],\n",
    "            'max_depth': [5, None]\n",
    "        }\n",
    "    },\n",
    "    {\n",
    "        'name': 'K-Nearest Neighbor',\n",
    "        'model': KNeighborsRegressor(),\n",
    "        'params': {\n",
    "            'n_neighbors': [3, 5, 7],\n",
    "            'weights': ['uniform', 'distance']\n",
    "        }\n",
    "    }\n",
    "]"
   ]
  },
  {
   "cell_type": "code",
   "execution_count": 36,
   "id": "1be30fa2",
   "metadata": {},
   "outputs": [
    {
     "name": "stdout",
     "output_type": "stream",
     "text": [
      "Performing hyperparameter tuning for Linear Regression...\n",
      "Best parameters for Linear Regression: {}\n",
      "Performing hyperparameter tuning for Decision Tree...\n",
      "Best parameters for Decision Tree: {'max_depth': None, 'min_samples_leaf': 2}\n",
      "Performing hyperparameter tuning for Random Forest...\n",
      "Best parameters for Random Forest: {'max_depth': None, 'n_estimators': 100}\n",
      "Performing hyperparameter tuning for K-Nearest Neighbor...\n",
      "Best parameters for K-Nearest Neighbor: {'n_neighbors': 7, 'weights': 'distance'}\n"
     ]
    }
   ],
   "source": [
    "# hyperparameter tuning models\n",
    "hp_models = []\n",
    "for model_config in models:\n",
    "    model_name = model_config['name']\n",
    "    model = model_config['model']\n",
    "    param_grid = model_config['params']\n",
    "    \n",
    "    print(f\"Performing hyperparameter tuning for {model_name}...\")\n",
    "    grid_search = GridSearchCV(estimator=model, param_grid=param_grid, scoring='neg_mean_squared_error', cv=5)\n",
    "    grid_search.fit(X_train, y_train)\n",
    "    print(f\"Best parameters for {model_name}: {grid_search.best_params_}\")\n",
    "    \n",
    "    hp_models.append({\n",
    "        'name': model_name,\n",
    "        'grid_search': grid_search\n",
    "    })"
   ]
  },
  {
   "cell_type": "code",
   "execution_count": 37,
   "id": "47851b28",
   "metadata": {
    "scrolled": false
   },
   "outputs": [
    {
     "name": "stdout",
     "output_type": "stream",
     "text": [
      "                Model       MSE        R2\n",
      "0   Linear Regression  0.002302  0.018149\n",
      "1       Decision Tree  0.001724  0.264670\n",
      "2       Random Forest  0.001040  0.556544\n",
      "3  K-Nearest Neighbor  0.000878  0.625278\n"
     ]
    },
    {
     "data": {
      "image/png": "[encoded data removed]",
      "text/plain": [
       "<Figure size 640x480 with 1 Axes>"
      ]
     },
     "metadata": {},
     "output_type": "display_data"
    },
    {
     "data": {
      "image/png": "[encoded data removed]",
      "text/plain": [
       "<Figure size 640x480 with 1 Axes>"
      ]
     },
     "metadata": {},
     "output_type": "display_data"
    },
    {
     "data": {
      "image/png": "[encoded data removed]",
      "text/plain": [
       "<Figure size 640x480 with 1 Axes>"
      ]
     },
     "metadata": {},
     "output_type": "display_data"
    },
    {
     "data": {
      "image/png": "[encoded data removed]",
      "text/plain": [
       "<Figure size 640x480 with 1 Axes>"
      ]
     },
     "metadata": {},
     "output_type": "display_data"
    }
   ],
   "source": [
    "# model evaluation\n",
    "df_ev = pd.DataFrame()\n",
    "y_preds = []\n",
    "for model in hp_models:\n",
    "    gs = model['grid_search']\n",
    "    y_pred = gs.predict(X_test)\n",
    "    y_preds.append({'name': model['name'], 'y_pred': y_pred})\n",
    "    mse = mean_squared_error(y_test, y_pred)\n",
    "    r2 = r2_score(y_test, y_pred)\n",
    "    new_row = {'Model': model['name'], 'MSE': mse, 'R2': r2}\n",
    "    df_ev = pd.concat([df_ev, pd.DataFrame(new_row, index=[0])], ignore_index=True)\n",
    "print(df_ev)\n",
    "\n",
    "for y in y_preds:\n",
    "    y_pred = y['y_pred']\n",
    "    plt.scatter(y_test, y_pred)\n",
    "    plt.plot([y_test.min(), y_test.max()], [y_test.min(), y_test.max()], 'k--', lw=4)\n",
    "    plt.xlabel('Actual Values')\n",
    "    plt.ylabel('Predicted Values')\n",
    "    title = 'Scatter Plot of ' + y['name'] \n",
    "    plt.title(title)\n",
    "    plt.show()"
   ]
  },
  {
   "cell_type": "code",
   "execution_count": 36,
   "id": "8dd1c66f",
   "metadata": {
    "id": "8dd1c66f"
   },
   "outputs": [
    {
     "name": "stdout",
     "output_type": "stream",
     "text": [
      "The best-performing model is K-Nearest Neighbor with a cross-validated MSE of 0.0010703748991041752\n",
      "MSE for the best-performing model: 0.0010455016261237797\n",
      "R2 score for the best-performing model: 0.7540208787860912\n"
     ]
    }
   ],
   "source": [
    "# selecting best model\n",
    "best_model_name = ''\n",
    "best_model = None\n",
    "best_mse = np.inf\n",
    "\n",
    "for model in hp_models:\n",
    "    gs = model['grid_search']\n",
    "    if -gs.best_score_ < best_mse:\n",
    "        best_model_name = model_name\n",
    "        best_model = gs.best_estimator_\n",
    "        best_mse = -gs.best_score_\n",
    "\n",
    "print(f\"The best-performing model is {best_model_name} with a cross-validated MSE of {best_mse}\")\n",
    "best_model.fit(X_train, y_train)\n",
    "y_pred = best_model.predict(X_test)\n",
    "mse = mean_squared_error(y_test, y_pred)\n",
    "r2 = r2_score(y_test, y_pred)\n",
    "print(f\"MSE for the best-performing model: {mse}\")\n",
    "print(f\"R2 score for the best-performing model: {r2}\")"
   ]
  },
  {
   "cell_type": "code",
   "execution_count": 37,
   "id": "15e1121a",
   "metadata": {},
   "outputs": [
    {
     "name": "stdout",
     "output_type": "stream",
     "text": [
      "['model.joblib']\n"
     ]
    }
   ],
   "source": [
    "# saving best model\n",
    "joblib.dump(best_model, 'model.joblib')"
   ]
  },
  {
   "cell_type": "code",
   "execution_count": null,
   "id": "d06cabfd",
   "metadata": {},
   "outputs": [],
   "source": []
  }
 ],
 "metadata": {
  "colab": {
   "provenance": []
  },
  "kernelspec": {
   "display_name": "Python 3 (ipykernel)",
   "language": "python",
   "name": "python3"
  },
  "language_info": {
   "codemirror_mode": {
    "name": "ipython",
    "version": 3
   },
   "file_extension": ".py",
   "mimetype": "text/x-python",
   "name": "python",
   "nbconvert_exporter": "python",
   "pygments_lexer": "ipython3",
   "version": "3.8.16"
  }
 },
 "nbformat": 4,
 "nbformat_minor": 5
}
