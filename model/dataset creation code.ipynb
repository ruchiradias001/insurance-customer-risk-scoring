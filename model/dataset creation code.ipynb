{
 "cells": [
  {
   "cell_type": "code",
   "execution_count": 1,
   "id": "afe6752d",
   "metadata": {},
   "outputs": [],
   "source": [
    "import numpy as np\n",
    "import pandas as pd\n",
    "from datetime import datetime"
   ]
  },
  {
   "cell_type": "code",
   "execution_count": 2,
   "id": "93a63ffc",
   "metadata": {},
   "outputs": [
    {
     "name": "stdout",
     "output_type": "stream",
     "text": [
      "WARNING *** file size (102462767) not 512 + multiple of sector size (512)\n",
      "WARNING *** OLE2 inconsistency: SSCS size is 0 but SSAT size is non-zero\n"
     ]
    },
    {
     "data": {
      "text/html": [
       "<div>\n",
       "<style scoped>\n",
       "    .dataframe tbody tr th:only-of-type {\n",
       "        vertical-align: middle;\n",
       "    }\n",
       "\n",
       "    .dataframe tbody tr th {\n",
       "        vertical-align: top;\n",
       "    }\n",
       "\n",
       "    .dataframe thead th {\n",
       "        text-align: right;\n",
       "    }\n",
       "</style>\n",
       "<table border=\"1\" class=\"dataframe\">\n",
       "  <thead>\n",
       "    <tr style=\"text-align: right;\">\n",
       "      <th></th>\n",
       "      <th>LINKID</th>\n",
       "      <th>REGISTRATIONNO</th>\n",
       "      <th>DOCUMENTDATE</th>\n",
       "      <th>EXPIRYDATE</th>\n",
       "      <th>INSUREDNATURE</th>\n",
       "      <th>DATEOFBIRTH</th>\n",
       "      <th>SEX</th>\n",
       "      <th>MARITALSTATUS</th>\n",
       "      <th>OCCUPATION</th>\n",
       "      <th>BRANCHCODE</th>\n",
       "      <th>...</th>\n",
       "      <th>EQUIPMENTVALUE</th>\n",
       "      <th>INSURANCETYPE</th>\n",
       "      <th>MAINCLASS</th>\n",
       "      <th>DESCRIPTION</th>\n",
       "      <th>SUBCLASS</th>\n",
       "      <th>SUMINSURED</th>\n",
       "      <th>ANNUALBASICPREMIUM</th>\n",
       "      <th>ANNUALSRCCPREMIUM</th>\n",
       "      <th>ANNUALTCPREMIUM</th>\n",
       "      <th>ANNUALPREMIUMTOTAL</th>\n",
       "    </tr>\n",
       "  </thead>\n",
       "  <tbody>\n",
       "    <tr>\n",
       "      <th>0</th>\n",
       "      <td>POLE201413191644</td>\n",
       "      <td>NW NB-8109</td>\n",
       "      <td>2014-10-14</td>\n",
       "      <td>2015-07-20</td>\n",
       "      <td>C</td>\n",
       "      <td>NaN</td>\n",
       "      <td>NaN</td>\n",
       "      <td>NaN</td>\n",
       "      <td>NaN</td>\n",
       "      <td>KUR</td>\n",
       "      <td>...</td>\n",
       "      <td>NaN</td>\n",
       "      <td>GENERAL</td>\n",
       "      <td>VCFL</td>\n",
       "      <td>VEHICLE COMMERCIAL VEHICLE FLEET</td>\n",
       "      <td>JCH2</td>\n",
       "      <td>9450000.0</td>\n",
       "      <td>1357.18</td>\n",
       "      <td>1130.99</td>\n",
       "      <td>0.0</td>\n",
       "      <td>2488.17</td>\n",
       "    </tr>\n",
       "    <tr>\n",
       "      <th>1</th>\n",
       "      <td>POLE201514230042</td>\n",
       "      <td>WP CAD-0712</td>\n",
       "      <td>2015-06-29</td>\n",
       "      <td>2016-03-30</td>\n",
       "      <td>C</td>\n",
       "      <td>NaN</td>\n",
       "      <td>NaN</td>\n",
       "      <td>NaN</td>\n",
       "      <td>NaN</td>\n",
       "      <td>CNR</td>\n",
       "      <td>...</td>\n",
       "      <td>NaN</td>\n",
       "      <td>GENERAL</td>\n",
       "      <td>VCFP</td>\n",
       "      <td>VEHICLE PRIVATE CAR FLEET</td>\n",
       "      <td>JPC</td>\n",
       "      <td>149856000.0</td>\n",
       "      <td>1411.00</td>\n",
       "      <td>0.00</td>\n",
       "      <td>0.0</td>\n",
       "      <td>1411.00</td>\n",
       "    </tr>\n",
       "    <tr>\n",
       "      <th>2</th>\n",
       "      <td>POLE201412564131</td>\n",
       "      <td>WP GL-0180</td>\n",
       "      <td>2014-06-06</td>\n",
       "      <td>2015-02-04</td>\n",
       "      <td>C</td>\n",
       "      <td>NaN</td>\n",
       "      <td>NaN</td>\n",
       "      <td>NaN</td>\n",
       "      <td>NaN</td>\n",
       "      <td>JIC</td>\n",
       "      <td>...</td>\n",
       "      <td>NaN</td>\n",
       "      <td>GENERAL</td>\n",
       "      <td>VCFP</td>\n",
       "      <td>VEHICLE PRIVATE CAR FLEET</td>\n",
       "      <td>JPC</td>\n",
       "      <td>480436325.0</td>\n",
       "      <td>6142.68</td>\n",
       "      <td>0.00</td>\n",
       "      <td>0.0</td>\n",
       "      <td>6142.68</td>\n",
       "    </tr>\n",
       "    <tr>\n",
       "      <th>3</th>\n",
       "      <td>POLE20095627214</td>\n",
       "      <td>WP KF-2143</td>\n",
       "      <td>2009-03-31</td>\n",
       "      <td>2010-02-04</td>\n",
       "      <td>C</td>\n",
       "      <td>NaN</td>\n",
       "      <td>NaN</td>\n",
       "      <td>NaN</td>\n",
       "      <td>NaN</td>\n",
       "      <td>JIC</td>\n",
       "      <td>...</td>\n",
       "      <td>NaN</td>\n",
       "      <td>GENERAL</td>\n",
       "      <td>VCFP</td>\n",
       "      <td>VEHICLE PRIVATE CAR FLEET</td>\n",
       "      <td>JPC</td>\n",
       "      <td>378102975.0</td>\n",
       "      <td>22763.34</td>\n",
       "      <td>0.00</td>\n",
       "      <td>0.0</td>\n",
       "      <td>22763.34</td>\n",
       "    </tr>\n",
       "    <tr>\n",
       "      <th>4</th>\n",
       "      <td>POLE20084893573</td>\n",
       "      <td>WP KA-1944</td>\n",
       "      <td>2008-07-01</td>\n",
       "      <td>2009-02-04</td>\n",
       "      <td>C</td>\n",
       "      <td>NaN</td>\n",
       "      <td>NaN</td>\n",
       "      <td>NaN</td>\n",
       "      <td>NaN</td>\n",
       "      <td>JIC</td>\n",
       "      <td>...</td>\n",
       "      <td>NaN</td>\n",
       "      <td>GENERAL</td>\n",
       "      <td>VCFP</td>\n",
       "      <td>VEHICLE PRIVATE CAR FLEET</td>\n",
       "      <td>JPC</td>\n",
       "      <td>335065400.0</td>\n",
       "      <td>556.23</td>\n",
       "      <td>0.00</td>\n",
       "      <td>0.0</td>\n",
       "      <td>556.23</td>\n",
       "    </tr>\n",
       "  </tbody>\n",
       "</table>\n",
       "<p>5 rows × 35 columns</p>\n",
       "</div>"
      ],
      "text/plain": [
       "             LINKID REGISTRATIONNO DOCUMENTDATE EXPIRYDATE INSUREDNATURE  \\\n",
       "0  POLE201413191644     NW NB-8109   2014-10-14 2015-07-20             C   \n",
       "1  POLE201514230042    WP CAD-0712   2015-06-29 2016-03-30             C   \n",
       "2  POLE201412564131     WP GL-0180   2014-06-06 2015-02-04             C   \n",
       "3   POLE20095627214     WP KF-2143   2009-03-31 2010-02-04             C   \n",
       "4   POLE20084893573     WP KA-1944   2008-07-01 2009-02-04             C   \n",
       "\n",
       "  DATEOFBIRTH  SEX MARITALSTATUS OCCUPATION BRANCHCODE  ... EQUIPMENTVALUE  \\\n",
       "0         NaN  NaN           NaN        NaN        KUR  ...            NaN   \n",
       "1         NaN  NaN           NaN        NaN        CNR  ...            NaN   \n",
       "2         NaN  NaN           NaN        NaN        JIC  ...            NaN   \n",
       "3         NaN  NaN           NaN        NaN        JIC  ...            NaN   \n",
       "4         NaN  NaN           NaN        NaN        JIC  ...            NaN   \n",
       "\n",
       "  INSURANCETYPE MAINCLASS                       DESCRIPTION SUBCLASS  \\\n",
       "0       GENERAL      VCFL  VEHICLE COMMERCIAL VEHICLE FLEET     JCH2   \n",
       "1       GENERAL      VCFP         VEHICLE PRIVATE CAR FLEET      JPC   \n",
       "2       GENERAL      VCFP         VEHICLE PRIVATE CAR FLEET      JPC   \n",
       "3       GENERAL      VCFP         VEHICLE PRIVATE CAR FLEET      JPC   \n",
       "4       GENERAL      VCFP         VEHICLE PRIVATE CAR FLEET      JPC   \n",
       "\n",
       "    SUMINSURED ANNUALBASICPREMIUM ANNUALSRCCPREMIUM  ANNUALTCPREMIUM  \\\n",
       "0    9450000.0            1357.18           1130.99              0.0   \n",
       "1  149856000.0            1411.00              0.00              0.0   \n",
       "2  480436325.0            6142.68              0.00              0.0   \n",
       "3  378102975.0           22763.34              0.00              0.0   \n",
       "4  335065400.0             556.23              0.00              0.0   \n",
       "\n",
       "   ANNUALPREMIUMTOTAL  \n",
       "0             2488.17  \n",
       "1             1411.00  \n",
       "2             6142.68  \n",
       "3            22763.34  \n",
       "4              556.23  \n",
       "\n",
       "[5 rows x 35 columns]"
      ]
     },
     "execution_count": 2,
     "metadata": {},
     "output_type": "execute_result"
    }
   ],
   "source": [
    "# read excel sheets into dataframes\n",
    "pol_sheets_dict = pd.read_excel(\"motor_pols2008-2023.xls\", sheet_name=None)\n",
    "df_pol = pd.concat(pol_sheets_dict.values(), ignore_index=True)\n",
    "df_pol.head()"
   ]
  },
  {
   "cell_type": "code",
   "execution_count": 3,
   "id": "8801a55c",
   "metadata": {},
   "outputs": [
    {
     "name": "stdout",
     "output_type": "stream",
     "text": [
      "df_pol rows\t:  252425\n",
      "df_pol cols\t:  35\n"
     ]
    }
   ],
   "source": [
    "# df_pol\n",
    "df_pol = df_pol.drop_duplicates()\n",
    "print('df_pol rows\\t: ', df_pol.shape[0])\n",
    "print('df_pol cols\\t: ', df_pol.shape[1])"
   ]
  },
  {
   "cell_type": "code",
   "execution_count": 4,
   "id": "442f3d9d",
   "metadata": {},
   "outputs": [
    {
     "name": "stdout",
     "output_type": "stream",
     "text": [
      "WARNING *** file size (37350283) not 512 + multiple of sector size (512)\n",
      "WARNING *** OLE2 inconsistency: SSCS size is 0 but SSAT size is non-zero\n"
     ]
    },
    {
     "data": {
      "text/html": [
       "<div>\n",
       "<style scoped>\n",
       "    .dataframe tbody tr th:only-of-type {\n",
       "        vertical-align: middle;\n",
       "    }\n",
       "\n",
       "    .dataframe tbody tr th {\n",
       "        vertical-align: top;\n",
       "    }\n",
       "\n",
       "    .dataframe thead th {\n",
       "        text-align: right;\n",
       "    }\n",
       "</style>\n",
       "<table border=\"1\" class=\"dataframe\">\n",
       "  <thead>\n",
       "    <tr style=\"text-align: right;\">\n",
       "      <th></th>\n",
       "      <th>LINKID</th>\n",
       "      <th>REGISTRATIONNO</th>\n",
       "      <th>CLAIMAMOUNT</th>\n",
       "    </tr>\n",
       "  </thead>\n",
       "  <tbody>\n",
       "    <tr>\n",
       "      <th>0</th>\n",
       "      <td>POLE20095583968</td>\n",
       "      <td>WP MC-3837</td>\n",
       "      <td>31368.50</td>\n",
       "    </tr>\n",
       "    <tr>\n",
       "      <th>1</th>\n",
       "      <td>POL20119089622</td>\n",
       "      <td>060-0975</td>\n",
       "      <td>677.42</td>\n",
       "    </tr>\n",
       "    <tr>\n",
       "      <th>2</th>\n",
       "      <td>POLE20107685469</td>\n",
       "      <td>CP VC-3881</td>\n",
       "      <td>23675.88</td>\n",
       "    </tr>\n",
       "    <tr>\n",
       "      <th>3</th>\n",
       "      <td>POLE20117884670</td>\n",
       "      <td>WP VA-2993</td>\n",
       "      <td>45641.06</td>\n",
       "    </tr>\n",
       "    <tr>\n",
       "      <th>4</th>\n",
       "      <td>POLE20107328942</td>\n",
       "      <td>WP JJ-0108</td>\n",
       "      <td>1574.62</td>\n",
       "    </tr>\n",
       "  </tbody>\n",
       "</table>\n",
       "</div>"
      ],
      "text/plain": [
       "            LINKID REGISTRATIONNO  CLAIMAMOUNT\n",
       "0  POLE20095583968     WP MC-3837     31368.50\n",
       "1   POL20119089622       060-0975       677.42\n",
       "2  POLE20107685469     CP VC-3881     23675.88\n",
       "3  POLE20117884670     WP VA-2993     45641.06\n",
       "4  POLE20107328942     WP JJ-0108      1574.62"
      ]
     },
     "execution_count": 4,
     "metadata": {},
     "output_type": "execute_result"
    }
   ],
   "source": [
    "# read excel sheets into dataframes\n",
    "clm_sheets_dict2008_2013 = pd.read_excel(\"motor_clms2008-2013.xlsx\", sheet_name=None)\n",
    "df_clm2008_2013 = pd.concat(clm_sheets_dict2008_2013.values(), ignore_index=True)\n",
    "clm_sheets_dict2013_2013 = pd.read_excel(\"motor_clms2013-2023.xls\", sheet_name=None)\n",
    "df_clm2013_2023 = pd.concat(clm_sheets_dict2013_2013.values(), ignore_index=True)\n",
    "df_clm1 = pd.concat([df_clm2008_2013, df_clm2013_2023], ignore_index=True)\n",
    "df_clm1.head()"
   ]
  },
  {
   "cell_type": "code",
   "execution_count": 5,
   "id": "57efbf6e",
   "metadata": {},
   "outputs": [
    {
     "name": "stdout",
     "output_type": "stream",
     "text": [
      "df_clm1 rows\t:  1122847\n",
      "df_clm1 cols\t:  3\n"
     ]
    }
   ],
   "source": [
    "# df_clm1\n",
    "print('df_clm1 rows\\t: ', df_clm1.shape[0])\n",
    "print('df_clm1 cols\\t: ', df_clm1.shape[1])"
   ]
  },
  {
   "cell_type": "code",
   "execution_count": 6,
   "id": "5d2461b1",
   "metadata": {},
   "outputs": [
    {
     "name": "stdout",
     "output_type": "stream",
     "text": [
      "WARNING *** file size (37395126) not 512 + multiple of sector size (512)\n",
      "WARNING *** OLE2 inconsistency: SSCS size is 0 but SSAT size is non-zero\n"
     ]
    },
    {
     "data": {
      "text/html": [
       "<div>\n",
       "<style scoped>\n",
       "    .dataframe tbody tr th:only-of-type {\n",
       "        vertical-align: middle;\n",
       "    }\n",
       "\n",
       "    .dataframe tbody tr th {\n",
       "        vertical-align: top;\n",
       "    }\n",
       "\n",
       "    .dataframe thead th {\n",
       "        text-align: right;\n",
       "    }\n",
       "</style>\n",
       "<table border=\"1\" class=\"dataframe\">\n",
       "  <thead>\n",
       "    <tr style=\"text-align: right;\">\n",
       "      <th></th>\n",
       "      <th>LINKID</th>\n",
       "      <th>REGISTRATIONNO</th>\n",
       "      <th>CLAIMAMOUNT</th>\n",
       "    </tr>\n",
       "  </thead>\n",
       "  <tbody>\n",
       "    <tr>\n",
       "      <th>0</th>\n",
       "      <td>POLE20095583968</td>\n",
       "      <td>WP MC-3837</td>\n",
       "      <td>31368.50</td>\n",
       "    </tr>\n",
       "    <tr>\n",
       "      <th>1</th>\n",
       "      <td>POL20119089622</td>\n",
       "      <td>060-0975</td>\n",
       "      <td>677.42</td>\n",
       "    </tr>\n",
       "    <tr>\n",
       "      <th>2</th>\n",
       "      <td>POLE20107685469</td>\n",
       "      <td>CP VC-3881</td>\n",
       "      <td>23675.88</td>\n",
       "    </tr>\n",
       "    <tr>\n",
       "      <th>3</th>\n",
       "      <td>POLE20117884670</td>\n",
       "      <td>WP VA-2993</td>\n",
       "      <td>45641.06</td>\n",
       "    </tr>\n",
       "    <tr>\n",
       "      <th>4</th>\n",
       "      <td>POLE20107328942</td>\n",
       "      <td>WP JJ-0108</td>\n",
       "      <td>1574.62</td>\n",
       "    </tr>\n",
       "  </tbody>\n",
       "</table>\n",
       "</div>"
      ],
      "text/plain": [
       "            LINKID REGISTRATIONNO  CLAIMAMOUNT\n",
       "0  POLE20095583968     WP MC-3837     31368.50\n",
       "1   POL20119089622       060-0975       677.42\n",
       "2  POLE20107685469     CP VC-3881     23675.88\n",
       "3  POLE20117884670     WP VA-2993     45641.06\n",
       "4  POLE20107328942     WP JJ-0108      1574.62"
      ]
     },
     "execution_count": 6,
     "metadata": {},
     "output_type": "execute_result"
    }
   ],
   "source": [
    "# read excel sheets into dataframes\n",
    "clm_log_sheets_dict2008_2013 = pd.read_excel(\"motor_clms_logs2008-2013.xlsx\", sheet_name=None)\n",
    "df_clm_log2008_2013 = pd.concat(clm_log_sheets_dict2008_2013.values(), ignore_index=True)\n",
    "clm_log_sheets_dict2013_2023 = pd.read_excel(\"motor_clms_logs2013-2023.xls\", sheet_name=None)\n",
    "df_clm_log2013_2023 = pd.concat(clm_log_sheets_dict2013_2023.values(), ignore_index=True)\n",
    "df_clm2 = pd.concat([df_clm_log2008_2013, df_clm_log2013_2023], ignore_index=True)\n",
    "df_clm2.head()"
   ]
  },
  {
   "cell_type": "code",
   "execution_count": 7,
   "id": "76e7a5b0",
   "metadata": {},
   "outputs": [
    {
     "name": "stdout",
     "output_type": "stream",
     "text": [
      "df_clm2 rows\t:  1100674\n",
      "df_clm2 cols\t:  3\n"
     ]
    }
   ],
   "source": [
    "# df_clm2\n",
    "print('df_clm2 rows\\t: ', df_clm2.shape[0])\n",
    "print('df_clm2 cols\\t: ', df_clm2.shape[1])"
   ]
  },
  {
   "cell_type": "code",
   "execution_count": 8,
   "id": "f8466ee1",
   "metadata": {},
   "outputs": [
    {
     "name": "stdout",
     "output_type": "stream",
     "text": [
      "df_clm rows\t:  1123533\n",
      "df_clm cols\t:  3\n"
     ]
    }
   ],
   "source": [
    "# concatenate dataframes vertically & group by link id & registration no\n",
    "df_clm = pd.concat([df_clm1, df_clm2], ignore_index=True)\n",
    "df_clm = df_clm.groupby(['LINKID', 'REGISTRATIONNO']).sum().reset_index()\n",
    "print('df_clm rows\\t: ', df_clm.shape[0])\n",
    "print('df_clm cols\\t: ', df_clm.shape[1])"
   ]
  },
  {
   "cell_type": "code",
   "execution_count": 9,
   "id": "0caa2c29",
   "metadata": {},
   "outputs": [
    {
     "name": "stdout",
     "output_type": "stream",
     "text": [
      "df rows\t:  252425\n",
      "df cols\t:  36\n"
     ]
    }
   ],
   "source": [
    "# perform left join on 'id' column\n",
    "df = pd.merge(df_pol, df_clm, on=['LINKID', 'REGISTRATIONNO'], how='left')\n",
    "df = df.drop_duplicates()\n",
    "print('df rows\\t: ', df.shape[0])\n",
    "print('df cols\\t: ', df.shape[1])"
   ]
  },
  {
   "cell_type": "code",
   "execution_count": 10,
   "id": "4cfbeae1",
   "metadata": {},
   "outputs": [],
   "source": [
    "df['REGISTRARIONID'] = df.groupby('REGISTRATIONNO').ngroup() + 1"
   ]
  },
  {
   "cell_type": "code",
   "execution_count": 11,
   "id": "d30c7135",
   "metadata": {},
   "outputs": [],
   "source": [
    "# save dataframe to a CSV file\n",
    "df = df.drop(['REGISTRATIONNO'], axis=1)\n",
    "df.to_csv('dataset.csv', index=False)"
   ]
  }
 ],
 "metadata": {
  "kernelspec": {
   "display_name": "Python 3 (ipykernel)",
   "language": "python",
   "name": "python3"
  },
  "language_info": {
   "codemirror_mode": {
    "name": "ipython",
    "version": 3
   },
   "file_extension": ".py",
   "mimetype": "text/x-python",
   "name": "python",
   "nbconvert_exporter": "python",
   "pygments_lexer": "ipython3",
   "version": "3.8.16"
  }
 },
 "nbformat": 4,
 "nbformat_minor": 5
}
